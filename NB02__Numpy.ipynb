{
  "nbformat": 4,
  "nbformat_minor": 0,
  "metadata": {
    "colab": {
      "name": "NB02__Numpy.ipynb",
      "provenance": [],
      "collapsed_sections": [],
      "include_colab_link": true
    },
    "kernelspec": {
      "name": "python3",
      "display_name": "Python 3"
    },
    "accelerator": "GPU"
  },
  "cells": [
    {
      "cell_type": "markdown",
      "metadata": {
        "id": "view-in-github",
        "colab_type": "text"
      },
      "source": [
        "<a href=\"https://colab.research.google.com/github/sfinotti/DSWP/blob/meu_sandbox/NB02__Numpy.ipynb\" target=\"_parent\"><img src=\"https://colab.research.google.com/assets/colab-badge.svg\" alt=\"Open In Colab\"/></a>"
      ]
    },
    {
      "cell_type": "markdown",
      "metadata": {
        "id": "6QhLXoatkvKR"
      },
      "source": [
        "<center><h1><b><i>NUMPY</i></b></h1></center>\n",
        "\n",
        "> NumPy é um pacote para computação científica e álgebra linear para Python.\n",
        "\n"
      ]
    },
    {
      "cell_type": "markdown",
      "metadata": {
        "id": "b8EZupp68vW8"
      },
      "source": [
        "# **AGENDA**:\n",
        "> Neste capítulo, vamos abordar os seguintes assuntos:\n",
        "\n",
        "* NumPy\n",
        "* Criar arrays\n",
        "* Criar Arrays Multidimensionais\n",
        "* Selecionar itens\n",
        "* Aplicar funções como max(), min() e etc\n",
        "* Calcular Estatísticas Descritivas: média e variância\n",
        "* Reshaping\n",
        "* Tansposta de um array\n",
        "* Autovalores e Autovetores\n",
        "* Wrap Up\n",
        "* Exercícios"
      ]
    },
    {
      "cell_type": "markdown",
      "metadata": {
        "id": "cO5t3xCO8kyK"
      },
      "source": [
        "___\n",
        "# **NOTAS E OBSERVAÇÕES**\n",
        "\n",
        "* Nosso foco com o NumPy é facilitar o uso do Pandas;"
      ]
    },
    {
      "cell_type": "markdown",
      "metadata": {
        "id": "z2IFUG4GSB0Z"
      },
      "source": [
        "___\n",
        "# **CHEETSHEET**"
      ]
    },
    {
      "cell_type": "markdown",
      "metadata": {
        "id": "jYLeDVH-SNCg"
      },
      "source": [
        "![Numpy](https://github.com/MathMachado/Materials/blob/master/numpy_basics-1.png?raw=true)"
      ]
    },
    {
      "cell_type": "markdown",
      "metadata": {
        "id": "0mKvExmgUFOk"
      },
      "source": [
        "# **ESCALAR, VETORES, MATRIZES E TENSORES**\n",
        "\n",
        "![Tensor](https://github.com/MathMachado/Materials/blob/master/tensor.png?raw=true)\n",
        "\n",
        "Source: [PyTorch for Deep Learning: A Quick Guide for Starters](https://towardsdatascience.com/pytorch-for-deep-learning-a-quick-guide-for-starters-5b60d2dbb564)"
      ]
    },
    {
      "cell_type": "markdown",
      "metadata": {
        "id": "o00pYRIkXiAU"
      },
      "source": [
        "## Import Statement - Primeiros exemplos\n",
        "> Como exemplo, considere gerar uma amostra aleatória de tamanho 10 da Distribuição Normal(0, 1):"
      ]
    },
    {
      "cell_type": "markdown",
      "metadata": {
        "id": "l_XuvcUDWNDk"
      },
      "source": [
        "## Importar a library NumPy"
      ]
    },
    {
      "cell_type": "markdown",
      "metadata": {
        "id": "am_ZTIGaapCo"
      },
      "source": [
        "### **Opção 1**: Importar a biblioteca NumPy COM alias"
      ]
    },
    {
      "cell_type": "code",
      "metadata": {
        "id": "b4irLw6BWVVZ"
      },
      "source": [
        "import numpy as np"
      ],
      "execution_count": null,
      "outputs": []
    },
    {
      "cell_type": "code",
      "metadata": {
        "id": "JK54ga7dXnJu",
        "outputId": "0fe111b9-0e74-4cdd-baca-ca63cbab6477",
        "colab": {
          "base_uri": "https://localhost:8080/",
          "height": 51
        }
      },
      "source": [
        "# Set up o número de casas decimais para o NumPy:\n",
        "np.set_printoptions(precision = 2, suppress = True)\n",
        "\n",
        "'''\n",
        "Define seed por questões de reproducibilidade, ou seja, \n",
        "garante que todos vamos gerar os mesmos números aleatórios\n",
        "'''\n",
        "np.random.seed(seed = 20111974)\n",
        "\n",
        "# Gera 10 números aleatórios a partir da Distribuição Normal(media, desvio_padrao)\n",
        "media = 0\n",
        "desvio_padrao = 1\n",
        "a_numeros1 = np.random.normal(media, desvio_padrao, size = 10) # Array 1D de size = 10\n",
        "a_numeros1"
      ],
      "execution_count": null,
      "outputs": [
        {
          "output_type": "execute_result",
          "data": {
            "text/plain": [
              "array([ 2.51,  1.11,  2.06,  0.56,  0.3 ,  1.05, -0.13,  1.06,  1.14,\n",
              "        1.38])"
            ]
          },
          "metadata": {
            "tags": []
          },
          "execution_count": 17
        }
      ]
    },
    {
      "cell_type": "markdown",
      "metadata": {
        "id": "3-0934isZUm6"
      },
      "source": [
        "**Observação**: Altere o valor de [precision] para 4, 2 e 0 e observe o que acontece."
      ]
    },
    {
      "cell_type": "markdown",
      "metadata": {
        "id": "9ob_8S_bYYa2"
      },
      "source": [
        "### **Opção 2**: Importar a biblioteca NumPy SEM alias"
      ]
    },
    {
      "cell_type": "code",
      "metadata": {
        "id": "NcGd1ho_XDXU"
      },
      "source": [
        "import numpy"
      ],
      "execution_count": null,
      "outputs": []
    },
    {
      "cell_type": "code",
      "metadata": {
        "id": "zFYH6J5-Ydjl"
      },
      "source": [
        "# Set up o número de casas decimais para o NumPy:\n",
        "numpy.set_printoptions(precision = 2, suppress = True)\n",
        "\n",
        "'''\n",
        "Define seed por questões de reproducibilidade, ou seja, \n",
        "garante que todos vamos gerar os mesmos números aleatórios\n",
        "'''\n",
        "numpy.random.seed(seed = 20111974)\n",
        "\n",
        "# Gera 10 números aleatórios a partir da Distribuição Normal(mu, desvio_padrao)\n",
        "media = 0\n",
        "desvio_padrao = 1\n",
        "numpy.random.normal(size = 10)"
      ],
      "execution_count": null,
      "outputs": []
    },
    {
      "cell_type": "markdown",
      "metadata": {
        "id": "AwWSzYrZWfvA"
      },
      "source": [
        "### **Opção 3**: Importar funções específicas da biblioteca NumPy"
      ]
    },
    {
      "cell_type": "code",
      "metadata": {
        "id": "bfYJzcqRa5eu"
      },
      "source": [
        "from numpy import set_printoptions\n",
        "from numpy.random import seed, normal"
      ],
      "execution_count": null,
      "outputs": []
    },
    {
      "cell_type": "code",
      "metadata": {
        "id": "Xj6fbpvubH_p"
      },
      "source": [
        "# Set up o número de casas decimais para o NumPy:\n",
        "set_printoptions(precision = 2, suppress = True)\n",
        "\n",
        "'''\n",
        "Define seed por questões de reproducibilidade, ou seja, \n",
        "garante que todos vamos gerar os mesmos números aleatórios\n",
        "'''\n",
        "seed(seed = 20111974)\n",
        "\n",
        "# Gera 10 números aleatórios a partir da Distribuição Normal(mu, desvio_padrao)\n",
        "media = 0\n",
        "desvio_padrao = 1 \n",
        "np.random.normal(size = 10)"
      ],
      "execution_count": null,
      "outputs": []
    },
    {
      "cell_type": "markdown",
      "metadata": {
        "id": "00RerJPChnuP"
      },
      "source": [
        "___\n",
        "# **Estatísticas Descriticas com NumPy**"
      ]
    },
    {
      "cell_type": "markdown",
      "metadata": {
        "id": "Qa6ro1VJlShd"
      },
      "source": [
        "## Exemplo 1\n",
        "> Vamos voltar ao mesmo exemplo anterior, mas desta vez, usando a opção 1 (com alias):\n",
        "\n",
        "* Gerar uma amostra aleatória de tamanho 10 da Distribuiçao Normal(0, 1)."
      ]
    },
    {
      "cell_type": "code",
      "metadata": {
        "id": "31dSBU8khvFk",
        "outputId": "f4702bee-deb2-47bb-f078-9b80b5950d5f",
        "colab": {
          "base_uri": "https://localhost:8080/",
          "height": 51
        }
      },
      "source": [
        "# Set up o número de casas decimais para o NumPy:\n",
        "np.set_printoptions(precision = 2, suppress = True)\n",
        "\n",
        "# Define seed\n",
        "np.random.seed(seed = 20111974)\n",
        "\n",
        "# Gera 10 números aleatórios a partir da Distribuição Normal(media, desvio_padrao)\n",
        "media = 0\n",
        "desvio_padrao = 1\n",
        "\n",
        "np.random\n",
        "a_numeros1 = np.random.normal(media, desvio_padrao, size = 10) # Array 1D de size = 10\n",
        "a_numeros1"
      ],
      "execution_count": null,
      "outputs": [
        {
          "output_type": "execute_result",
          "data": {
            "text/plain": [
              "array([ 2.51,  1.11,  2.06,  0.56,  0.3 ,  1.05, -0.13,  1.06,  1.14,\n",
              "        1.38])"
            ]
          },
          "metadata": {
            "tags": []
          },
          "execution_count": 18
        }
      ]
    },
    {
      "cell_type": "markdown",
      "metadata": {
        "id": "wa2t0P3nevTh"
      },
      "source": [
        "Conferindo a média e desvio-padrão do array gerado:"
      ]
    },
    {
      "cell_type": "code",
      "metadata": {
        "id": "drUyk3f5ekDq",
        "outputId": "8135bf2b-e496-4dcc-9e2c-1f1f99ab04bf",
        "colab": {
          "base_uri": "https://localhost:8080/",
          "height": 35
        }
      },
      "source": [
        "f'Distribuição N({np.mean(a_numeros1)}, {np.std(a_numeros1)})'"
      ],
      "execution_count": null,
      "outputs": [
        {
          "output_type": "execute_result",
          "data": {
            "application/vnd.google.colaboratory.intrinsic+json": {
              "type": "string"
            },
            "text/plain": [
              "'Distribuição N(1.1043374540652753, 0.735246705657231)'"
            ]
          },
          "metadata": {
            "tags": []
          },
          "execution_count": 19
        }
      ]
    },
    {
      "cell_type": "markdown",
      "metadata": {
        "id": "XSp7Hd-Gib67"
      },
      "source": [
        "Estávamos à espera de media = 0 e sigma = 1. Certo? Porque isso não aconteceu?"
      ]
    },
    {
      "cell_type": "markdown",
      "metadata": {
        "id": "HP_8VSgygXOF"
      },
      "source": [
        "## **Laboratório 1**\n",
        "> Altere os valores de [size] para 100, 1.000, 10.000, 100.000 e 1.000.000 e relate o que acontece com a média e desvio padrão."
      ]
    },
    {
      "cell_type": "markdown",
      "metadata": {
        "id": "4TbmVbdcg6iU"
      },
      "source": [
        "## **Minha solução**"
      ]
    },
    {
      "cell_type": "code",
      "metadata": {
        "id": "-qdiqBVHg-gd",
        "outputId": "61189887-e201-4194-b375-1baac1cf1f67",
        "colab": {
          "base_uri": "https://localhost:8080/",
          "height": 153
        }
      },
      "source": [
        "# Define a média e o desvio-padrão\n",
        "media = 0\n",
        "desvio_padrao = 1\n",
        "\n",
        "# Define seed\n",
        "np.random.seed(seed = 20111974)\n",
        "l_lista_numeros = [10, 100, 1000, 10000, 100000, 1000000, 10000000, 100000000, 1000000000]\n",
        "\n",
        "for i_size in l_lista_numeros:\n",
        "    a_numeros1 = np.random.normal(media, desvio_padrao, size = i_size)\n",
        "    print(f'Size: {i_size}--> Distribuição: N({np.mean(a_numeros1)}, {np.std(a_numeros1)})')"
      ],
      "execution_count": null,
      "outputs": [
        {
          "output_type": "stream",
          "text": [
            "Size: 10--> Distribuição: N(1.1043374540652753, 0.735246705657231)\n",
            "Size: 100--> Distribuição: N(-0.14020525697186714, 0.9254100654233511)\n",
            "Size: 1000--> Distribuição: N(0.021644923462910873, 1.0054417533501039)\n",
            "Size: 10000--> Distribuição: N(0.015499353804764507, 0.9970905566844254)\n",
            "Size: 100000--> Distribuição: N(0.002039323041103302, 0.9960906293570095)\n",
            "Size: 1000000--> Distribuição: N(-1.1062145143945444e-06, 0.999473966169304)\n",
            "Size: 10000000--> Distribuição: N(0.0002892972723094128, 1.0001202837422036)\n",
            "Size: 100000000--> Distribuição: N(0.00011967896623555603, 0.999944390106086)\n"
          ],
          "name": "stdout"
        }
      ]
    },
    {
      "cell_type": "markdown",
      "metadata": {
        "id": "bp-YuviQwWqE"
      },
      "source": [
        "Com relação à Distribuição Normal($\\mu, \\sigma$), temos que:\n",
        "\n",
        "![NormalDistribution](https://github.com/MathMachado/Materials/blob/master/NormalDistribution.PNG?raw=true)\n",
        "\n",
        "Fonte: [Normal Distribution](https://towardsdatascience.com/understanding-the-68-95-99-7-rule-for-a-normal-distribution-b7b7cbf760c2)"
      ]
    },
    {
      "cell_type": "markdown",
      "metadata": {
        "id": "KwHBY3Enk04N"
      },
      "source": [
        "## Lei Forte dos Grandes Números - LFGN\n",
        "> Por favor, leia o que diz a [Law of large numbers](https://en.wikipedia.org/wiki/Law_of_large_numbers). --> 3 minutos.\n",
        "\n",
        "* O que você aprendeu com isso?"
      ]
    },
    {
      "cell_type": "markdown",
      "metadata": {
        "id": "BhwmSkAjlszT"
      },
      "source": [
        "## Exemplo 2\n",
        "> Vamos nos aprofundar um pouco mais no que diz a LFGN. Para isso, vamos simular o lançamento de dados. Como sabemos, os dados possuem 6 lados numerados de 1 a 6, com igual probabilidade. Certo?\n",
        "\n",
        "A LFGN nos diz que à medida que N (o tamanho da amostra ou número de dados) cresce, então a média dos dados converge para o valor esperado. Isso quer dizer que:\n",
        "\n",
        "$$\\frac{1+2+3+4+5+6}{6}= \\frac{21}{6}= 3,5$$\n",
        "\n",
        "Ou seja, à medida que N (o tamanho da amostra) cresce, espera-se que a média dos dados se aproxime de 3,5. Ok?\n",
        "\n",
        "Vamos ver se isso é verdade..."
      ]
    },
    {
      "cell_type": "markdown",
      "metadata": {
        "id": "-QcJXf6roj0D"
      },
      "source": [
        "Vamos usar o método np.random.randint (= função randint definido na classe np.random), a seguir:"
      ]
    },
    {
      "cell_type": "markdown",
      "metadata": {
        "id": "A2u0RzLOrRE2"
      },
      "source": [
        "O que significa ou qual é a interpretação do resultado abaixo?"
      ]
    },
    {
      "cell_type": "code",
      "metadata": {
        "id": "B3-X_VBerUfa",
        "outputId": "9fb2b1ce-0ae5-4e24-f555-360ff364175e",
        "colab": {
          "base_uri": "https://localhost:8080/",
          "height": 102
        }
      },
      "source": [
        "# Define seed\n",
        "import numpy as np\n",
        "np.random.seed(seed = 20111974)\n",
        "\n",
        "# Simular 100 lançamentos de um dado:\n",
        "a_dados_simulados = np.random.randint(1, 7, size = 100)\n",
        "a_dados_simulados"
      ],
      "execution_count": null,
      "outputs": [
        {
          "output_type": "execute_result",
          "data": {
            "text/plain": [
              "array([4, 5, 3, 1, 1, 4, 3, 1, 2, 2, 1, 1, 6, 4, 5, 3, 1, 4, 1, 6, 2, 4,\n",
              "       6, 2, 4, 3, 2, 6, 3, 6, 2, 6, 1, 3, 1, 2, 4, 2, 4, 6, 3, 2, 6, 1,\n",
              "       4, 3, 6, 5, 2, 3, 3, 3, 3, 2, 1, 6, 2, 1, 2, 3, 1, 5, 6, 6, 6, 6,\n",
              "       5, 6, 6, 5, 6, 3, 3, 2, 4, 2, 6, 1, 2, 3, 4, 5, 5, 3, 1, 6, 6, 5,\n",
              "       5, 1, 4, 6, 2, 2, 4, 3, 6, 1, 5, 5])"
            ]
          },
          "metadata": {
            "tags": []
          },
          "execution_count": 5
        }
      ]
    },
    {
      "cell_type": "code",
      "metadata": {
        "id": "m8Of2MMIrbF3",
        "outputId": "28d2a4ec-0c79-4bdb-fe22-a942c4a78380",
        "colab": {
          "base_uri": "https://localhost:8080/",
          "height": 136
        }
      },
      "source": [
        "# Importar o pandas, pois vamos precisar do método pd.value_counts():\n",
        "import pandas as pd\n",
        "pd.value_counts(a_dados_simulados)"
      ],
      "execution_count": null,
      "outputs": [
        {
          "output_type": "execute_result",
          "data": {
            "text/plain": [
              "6    22\n",
              "3    18\n",
              "2    18\n",
              "1    17\n",
              "4    13\n",
              "5    12\n",
              "dtype: int64"
            ]
          },
          "metadata": {
            "tags": []
          },
          "execution_count": 6
        }
      ]
    },
    {
      "cell_type": "markdown",
      "metadata": {
        "id": "54VwED8Br8rx"
      },
      "source": [
        "**Interpretação**: Isso quer dizer que fizemos a simulação de lançamento de um dado 100 vezes. Acima, a frequência com que cada lado do dado aparece.\n",
        "\n",
        "Eu estava à espera de frequência igual para cada um dos lados, isto é, por volta dos 16 ou 17. Ou seja:\n",
        "\n",
        "$$\\frac{100}{6}= 16,66$$\n",
        "\n",
        "Mas ok, vamos continuar com nosso experimento..."
      ]
    },
    {
      "cell_type": "code",
      "metadata": {
        "id": "HT_Dak-umC6I",
        "outputId": "d130547f-b33f-43c8-adf2-b8641776fe35",
        "colab": {
          "base_uri": "https://localhost:8080/",
          "height": 170
        }
      },
      "source": [
        "# Definir a semente\n",
        "np.random.seed(20111974)\n",
        "\n",
        "for i_size in [10, 30, 50, 75, 100, 1000, 10000, 100000, 1000000]:\n",
        "    a_dados_simulados = np.random.randint(1, 7, size = i_size)\n",
        "    print(f'Size: {i_size} --> Média: {np.mean(a_dados_simulados)}')"
      ],
      "execution_count": null,
      "outputs": [
        {
          "output_type": "stream",
          "text": [
            "Size: 10 --> Média: 2.6\n",
            "Size: 30 --> Média: 3.3666666666666667\n",
            "Size: 50 --> Média: 3.72\n",
            "Size: 75 --> Média: 3.2666666666666666\n",
            "Size: 100 --> Média: 3.42\n",
            "Size: 1000 --> Média: 3.461\n",
            "Size: 10000 --> Média: 3.5259\n",
            "Size: 100000 --> Média: 3.50794\n",
            "Size: 1000000 --> Média: 3.50151\n"
          ],
          "name": "stdout"
        }
      ]
    },
    {
      "cell_type": "markdown",
      "metadata": {
        "id": "edWNNOnXtbtd"
      },
      "source": [
        "E agora, como você interpreta esses resultados?"
      ]
    },
    {
      "cell_type": "markdown",
      "metadata": {
        "id": "eL6gXThkYcSf"
      },
      "source": [
        "## Calcular percentis\n",
        "> Boxplot"
      ]
    },
    {
      "cell_type": "markdown",
      "metadata": {
        "id": "jlGOQfXfPf0D"
      },
      "source": [
        "![BoxPlot](https://github.com/MathMachado/Materials/blob/master/boxplot.png?raw=true)"
      ]
    },
    {
      "cell_type": "markdown",
      "metadata": {
        "id": "grtEXG2BoNRt"
      },
      "source": [
        "Considere o array de retornos (simulados) a seguir:"
      ]
    },
    {
      "cell_type": "code",
      "metadata": {
        "id": "DjPKKq01YjF9",
        "outputId": "65f6e423-66cf-440b-debc-83c75a6953f7",
        "colab": {
          "base_uri": "https://localhost:8080/",
          "height": 34
        }
      },
      "source": [
        "import numpy as np\n",
        "np.random.seed(20111974)\n",
        "\n",
        "# Simulando Retornos de ativos financeiros com a distribuição Normal(0, 1):\n",
        "a_retornos = np.random.normal(0, 1, 100)\n",
        "print(f'Média: {np.mean(a_retornos)}')"
      ],
      "execution_count": null,
      "outputs": [
        {
          "output_type": "stream",
          "text": [
            "Média: -0.016996335492713833\n"
          ],
          "name": "stdout"
        }
      ]
    },
    {
      "cell_type": "code",
      "metadata": {
        "id": "ajjlfqgssLVO",
        "outputId": "ba4a440e-939d-405f-ca45-f5eb70474e20",
        "colab": {
          "base_uri": "https://localhost:8080/",
          "height": 357
        }
      },
      "source": [
        "a_retornos"
      ],
      "execution_count": null,
      "outputs": [
        {
          "output_type": "execute_result",
          "data": {
            "text/plain": [
              "array([ 2.5062768 ,  1.11440422,  2.05565501,  0.56482376,  0.29897276,\n",
              "        1.04930857, -0.12607366,  1.06227632,  1.13807032,  1.37966044,\n",
              "       -2.05995563,  0.67474814,  0.72722843, -0.33923852,  0.43613107,\n",
              "        0.59135489, -1.29281877,  1.17712036, -0.98644163, -1.79034143,\n",
              "       -1.08913605, -0.90712825, -1.02291108, -1.36445713, -0.29429164,\n",
              "        0.06343709, -1.14196185, -0.50706079, -0.83539436, -1.41492946,\n",
              "       -0.2159062 , -1.16519474, -0.60767518, -0.61510925,  1.0771542 ,\n",
              "        0.5043687 ,  0.02674197,  1.83494644,  0.34728874, -1.14671885,\n",
              "       -0.59841423, -0.42698353,  0.10901983, -0.75168457,  0.71689294,\n",
              "       -0.50810299,  0.47524103, -0.38248511, -1.37491973,  1.5355728 ,\n",
              "       -0.27356178,  0.68072592, -1.80454873,  1.16995833, -0.37988822,\n",
              "        0.19305861,  1.53792436, -0.11802807, -0.97621103, -1.23463994,\n",
              "        1.0504434 ,  1.91481015,  0.80359454,  0.35869561,  1.03409992,\n",
              "       -0.37200685,  0.32947575,  0.70038627, -0.98085533, -1.21072144,\n",
              "        0.74366412,  0.18372348,  0.10430302, -0.78160841, -0.0423915 ,\n",
              "        1.67094293, -1.07256479, -0.5493723 , -1.83082917,  0.11510819,\n",
              "        1.3911365 , -0.28940563,  0.31904722, -0.70009623, -0.4353552 ,\n",
              "       -2.0301258 , -0.14205882,  1.66292963, -0.57691495, -0.78963384,\n",
              "       -0.80660503,  0.05581487,  0.8715663 , -0.3499477 ,  1.37366912,\n",
              "        0.88027638, -1.47925906, -0.40657104, -0.18789895,  0.47475142])"
            ]
          },
          "metadata": {
            "tags": []
          },
          "execution_count": 9
        }
      ]
    },
    {
      "cell_type": "markdown",
      "metadata": {
        "id": "XZ3m06gv9lei"
      },
      "source": [
        "A seguir, o boxplot do array a_retornos:"
      ]
    },
    {
      "cell_type": "code",
      "metadata": {
        "id": "QtuwJP449tBQ",
        "outputId": "dbf5867f-a53b-4028-a8ce-f6540721c416",
        "colab": {
          "base_uri": "https://localhost:8080/",
          "height": 269
        }
      },
      "source": [
        "# Import da biblioteca seaborn: Uma das principais libraries para Data Visualization (outras: matplotlib)\n",
        "import seaborn as sns\n",
        "\n",
        "sns.boxplot(y = a_retornos)"
      ],
      "execution_count": null,
      "outputs": [
        {
          "output_type": "execute_result",
          "data": {
            "text/plain": [
              "<matplotlib.axes._subplots.AxesSubplot at 0x7f9bc92798d0>"
            ]
          },
          "metadata": {
            "tags": []
          },
          "execution_count": 10
        },
        {
          "output_type": "display_data",
          "data": {
            "image/png": "[encoded data removed]",
            "text/plain": [
              "<Figure size 432x288 with 1 Axes>"
            ]
          },
          "metadata": {
            "tags": [],
            "needs_background": "light"
          }
        }
      ]
    },
    {
      "cell_type": "code",
      "metadata": {
        "id": "o9ujdjxNY6qE"
      },
      "source": [
        "# Vamos usar o método np.percentile(array, q = [p1, p2, p3, ..., p99])\n",
        "percentis = np.percentile(a_retornos, q = [1, 5, 25, 50, 55, 75, 99])\n",
        "\n",
        "# Primeiro Quartil (= 25o percentil)\n",
        "q1 = percentis[2]"
      ],
      "execution_count": null,
      "outputs": []
    },
    {
      "cell_type": "code",
      "metadata": {
        "id": "2tSmEe30mit0",
        "outputId": "aebe4fcc-5833-4c02-bb5c-a24897f75f3d",
        "colab": {
          "base_uri": "https://localhost:8080/",
          "height": 51
        }
      },
      "source": [
        "percentis"
      ],
      "execution_count": null,
      "outputs": [
        {
          "output_type": "execute_result",
          "data": {
            "text/plain": [
              "array([-2.0304241 , -1.49481318, -0.78361477, -0.12205087,  0.08182676,\n",
              "        0.71947681,  2.06016123])"
            ]
          },
          "metadata": {
            "tags": []
          },
          "execution_count": 12
        }
      ]
    },
    {
      "cell_type": "markdown",
      "metadata": {
        "id": "c75g2Egco2lc"
      },
      "source": [
        "Em qual posição do array a_retornos se encontra Q3?"
      ]
    },
    {
      "cell_type": "code",
      "metadata": {
        "id": "nZr-A82Zo8Kb",
        "outputId": "d61d2211-019e-4b03-ad5c-45eb47af642c",
        "colab": {
          "base_uri": "https://localhost:8080/",
          "height": 34
        }
      },
      "source": [
        "q3 = percentis[5]\n",
        "\n",
        "# ou de trás para a frente do conteúdo da lista:\n",
        "q3_2 = percentis[-2]\n",
        "print(q3, q3_2)"
      ],
      "execution_count": null,
      "outputs": [
        {
          "output_type": "stream",
          "text": [
            "0.7194768106252311 0.7194768106252311\n"
          ],
          "name": "stdout"
        }
      ]
    },
    {
      "cell_type": "code",
      "metadata": {
        "id": "sWrnESPQT4JM"
      },
      "source": [
        "# lim_inferior e lim_superior para detecção de outliers\n",
        "lim_inferior = q1 - 1.5 * (q3 - q1)\n",
        "lim_superior = q3 + 1.5 * (q3 - q1)"
      ],
      "execution_count": null,
      "outputs": []
    },
    {
      "cell_type": "code",
      "metadata": {
        "id": "Yb4-ZJlUUYsi",
        "outputId": "00f33662-ce41-4229-d5a8-66ca5090b628",
        "colab": {
          "base_uri": "https://localhost:8080/",
          "height": 35
        }
      },
      "source": [
        "f'Limite Inferior: {lim_inferior}; Limite Superior: {lim_superior}'"
      ],
      "execution_count": null,
      "outputs": [
        {
          "output_type": "execute_result",
          "data": {
            "application/vnd.google.colaboratory.intrinsic+json": {
              "type": "string"
            },
            "text/plain": [
              "'Limite Inferior: -3.0382521297304486; Limite Superior: 2.974114174838639'"
            ]
          },
          "metadata": {
            "tags": []
          },
          "execution_count": 15
        }
      ]
    },
    {
      "cell_type": "code",
      "metadata": {
        "id": "Jr6oXIHlUxOe",
        "outputId": "a5f6f1e6-24be-41d9-d946-41a58a77251d",
        "colab": {
          "base_uri": "https://localhost:8080/",
          "height": 34
        }
      },
      "source": [
        "np.min(a_retornos)"
      ],
      "execution_count": null,
      "outputs": [
        {
          "output_type": "execute_result",
          "data": {
            "text/plain": [
              "-2.0599556303504514"
            ]
          },
          "metadata": {
            "tags": []
          },
          "execution_count": 16
        }
      ]
    },
    {
      "cell_type": "code",
      "metadata": {
        "id": "UxE47cN0U54X",
        "outputId": "40733c8a-9fb2-4c9c-d561-8c2bc5068f55",
        "colab": {
          "base_uri": "https://localhost:8080/",
          "height": 34
        }
      },
      "source": [
        "np.max(a_retornos)"
      ],
      "execution_count": null,
      "outputs": [
        {
          "output_type": "execute_result",
          "data": {
            "text/plain": [
              "2.506276801325959"
            ]
          },
          "metadata": {
            "tags": []
          },
          "execution_count": 17
        }
      ]
    },
    {
      "cell_type": "markdown",
      "metadata": {
        "id": "OTB9HnIac499"
      },
      "source": [
        "___\n",
        "# **Ordenar itens de um array**\n",
        "> Considere o array a seguir:"
      ]
    },
    {
      "cell_type": "code",
      "metadata": {
        "id": "Jgj8Yw46dBMx",
        "outputId": "062b8a8f-a9de-4f36-8ad1-2c50098ced19",
        "colab": {
          "base_uri": "https://localhost:8080/",
          "height": 51
        }
      },
      "source": [
        "np.random.seed(20111974)\n",
        "a_numeros1 = np.random.random(10)\n",
        "a_numeros1"
      ],
      "execution_count": null,
      "outputs": [
        {
          "output_type": "execute_result",
          "data": {
            "text/plain": [
              "array([0.53097233, 0.56965626, 0.54252938, 0.65478409, 0.85708456,\n",
              "       0.60174181, 0.87298309, 0.45573342, 0.67336717, 0.64300912])"
            ]
          },
          "metadata": {
            "tags": []
          },
          "execution_count": 18
        }
      ]
    },
    {
      "cell_type": "markdown",
      "metadata": {
        "id": "cC9272GFdRln"
      },
      "source": [
        "Ordenando os itens de a_numeros1..."
      ]
    },
    {
      "cell_type": "code",
      "metadata": {
        "id": "YUP90nBVdUeF",
        "outputId": "f5bfecfe-0a85-47d6-cbbd-047fd90daadc",
        "colab": {
          "base_uri": "https://localhost:8080/",
          "height": 51
        }
      },
      "source": [
        "np.sort(a_numeros1)"
      ],
      "execution_count": null,
      "outputs": [
        {
          "output_type": "execute_result",
          "data": {
            "text/plain": [
              "array([0.45573342, 0.53097233, 0.54252938, 0.56965626, 0.60174181,\n",
              "       0.64300912, 0.65478409, 0.67336717, 0.85708456, 0.87298309])"
            ]
          },
          "metadata": {
            "tags": []
          },
          "execution_count": 19
        }
      ]
    },
    {
      "cell_type": "markdown",
      "metadata": {
        "id": "lG763cDGj-yB"
      },
      "source": [
        "___\n",
        "# **Obter ajuda**"
      ]
    },
    {
      "cell_type": "code",
      "metadata": {
        "id": "ehxPlD3EkEYL",
        "outputId": "df1fe869-16ff-41a0-8e01-40ec1934b52c",
        "colab": {
          "base_uri": "https://localhost:8080/",
          "height": 1000
        }
      },
      "source": [
        "help(np.random.normal)"
      ],
      "execution_count": null,
      "outputs": [
        {
          "output_type": "stream",
          "text": [
            "Help on built-in function normal:\n",
            "\n",
            "normal(...) method of numpy.random.mtrand.RandomState instance\n",
            "    normal(loc=0.0, scale=1.0, size=None)\n",
            "    \n",
            "    Draw random samples from a normal (Gaussian) distribution.\n",
            "    \n",
            "    The probability density function of the normal distribution, first\n",
            "    derived by De Moivre and 200 years later by both Gauss and Laplace\n",
            "    independently [2]_, is often called the bell curve because of\n",
            "    its characteristic shape (see the example below).\n",
            "    \n",
            "    The normal distributions occurs often in nature.  For example, it\n",
            "    describes the commonly occurring distribution of samples influenced\n",
            "    by a large number of tiny, random disturbances, each with its own\n",
            "    unique distribution [2]_.\n",
            "    \n",
            "    .. note::\n",
            "        New code should use the ``normal`` method of a ``default_rng()``\n",
            "        instance instead; see `random-quick-start`.\n",
            "    \n",
            "    Parameters\n",
            "    ----------\n",
            "    loc : float or array_like of floats\n",
            "        Mean (\"centre\") of the distribution.\n",
            "    scale : float or array_like of floats\n",
            "        Standard deviation (spread or \"width\") of the distribution. Must be\n",
            "        non-negative.\n",
            "    size : int or tuple of ints, optional\n",
            "        Output shape.  If the given shape is, e.g., ``(m, n, k)``, then\n",
            "        ``m * n * k`` samples are drawn.  If size is ``None`` (default),\n",
            "        a single value is returned if ``loc`` and ``scale`` are both scalars.\n",
            "        Otherwise, ``np.broadcast(loc, scale).size`` samples are drawn.\n",
            "    \n",
            "    Returns\n",
            "    -------\n",
            "    out : ndarray or scalar\n",
            "        Drawn samples from the parameterized normal distribution.\n",
            "    \n",
            "    See Also\n",
            "    --------\n",
            "    scipy.stats.norm : probability density function, distribution or\n",
            "        cumulative density function, etc.\n",
            "    Generator.normal: which should be used for new code.\n",
            "    \n",
            "    Notes\n",
            "    -----\n",
            "    The probability density for the Gaussian distribution is\n",
            "    \n",
            "    .. math:: p(x) = \\frac{1}{\\sqrt{ 2 \\pi \\sigma^2 }}\n",
            "                     e^{ - \\frac{ (x - \\mu)^2 } {2 \\sigma^2} },\n",
            "    \n",
            "    where :math:`\\mu` is the mean and :math:`\\sigma` the standard\n",
            "    deviation. The square of the standard deviation, :math:`\\sigma^2`,\n",
            "    is called the variance.\n",
            "    \n",
            "    The function has its peak at the mean, and its \"spread\" increases with\n",
            "    the standard deviation (the function reaches 0.607 times its maximum at\n",
            "    :math:`x + \\sigma` and :math:`x - \\sigma` [2]_).  This implies that\n",
            "    normal is more likely to return samples lying close to the mean, rather\n",
            "    than those far away.\n",
            "    \n",
            "    References\n",
            "    ----------\n",
            "    .. [1] Wikipedia, \"Normal distribution\",\n",
            "           https://en.wikipedia.org/wiki/Normal_distribution\n",
            "    .. [2] P. R. Peebles Jr., \"Central Limit Theorem\" in \"Probability,\n",
            "           Random Variables and Random Signal Principles\", 4th ed., 2001,\n",
            "           pp. 51, 51, 125.\n",
            "    \n",
            "    Examples\n",
            "    --------\n",
            "    Draw samples from the distribution:\n",
            "    \n",
            "    >>> mu, sigma = 0, 0.1 # mean and standard deviation\n",
            "    >>> s = np.random.normal(mu, sigma, 1000)\n",
            "    \n",
            "    Verify the mean and the variance:\n",
            "    \n",
            "    >>> abs(mu - np.mean(s))\n",
            "    0.0  # may vary\n",
            "    \n",
            "    >>> abs(sigma - np.std(s, ddof=1))\n",
            "    0.1  # may vary\n",
            "    \n",
            "    Display the histogram of the samples, along with\n",
            "    the probability density function:\n",
            "    \n",
            "    >>> import matplotlib.pyplot as plt\n",
            "    >>> count, bins, ignored = plt.hist(s, 30, density=True)\n",
            "    >>> plt.plot(bins, 1/(sigma * np.sqrt(2 * np.pi)) *\n",
            "    ...                np.exp( - (bins - mu)**2 / (2 * sigma**2) ),\n",
            "    ...          linewidth=2, color='r')\n",
            "    >>> plt.show()\n",
            "    \n",
            "    Two-by-four array of samples from N(3, 6.25):\n",
            "    \n",
            "    >>> np.random.normal(3, 2.5, size=(2, 4))\n",
            "    array([[-4.49401501,  4.00950034, -1.81814867,  7.29718677],   # random\n",
            "           [ 0.39924804,  4.68456316,  4.99394529,  4.84057254]])  # random\n",
            "\n"
          ],
          "name": "stdout"
        }
      ]
    },
    {
      "cell_type": "markdown",
      "metadata": {
        "id": "1Q_konJVaBsV"
      },
      "source": [
        "___\n",
        "# **Criar arrays 1D**"
      ]
    },
    {
      "cell_type": "code",
      "metadata": {
        "id": "DddZT5kadYJ7"
      },
      "source": [
        "import numpy as np\n",
        "np.set_printoptions(precision = 2, suppress = True)\n",
        "np.random.seed(seed = 20111974)"
      ],
      "execution_count": null,
      "outputs": []
    },
    {
      "cell_type": "markdown",
      "metadata": {
        "id": "jaqd-VnF3yIt"
      },
      "source": [
        "Criar o array 1D a_numeros1, com os seguintes números:"
      ]
    },
    {
      "cell_type": "code",
      "metadata": {
        "id": "E3niz_zHaF3e",
        "outputId": "c9a237e6-32b4-419c-f60b-c828e2489724",
        "colab": {
          "base_uri": "https://localhost:8080/",
          "height": 34
        }
      },
      "source": [
        "a_numeros1 = np.array([0, 1, 2, 3, 4, 5, 6, 7, 8, 9])\n",
        "a_numeros1"
      ],
      "execution_count": null,
      "outputs": [
        {
          "output_type": "execute_result",
          "data": {
            "text/plain": [
              "array([0, 1, 2, 3, 4, 5, 6, 7, 8, 9])"
            ]
          },
          "metadata": {
            "tags": []
          },
          "execution_count": 22
        }
      ]
    },
    {
      "cell_type": "markdown",
      "metadata": {
        "id": "DyfXbW_ZKJBS"
      },
      "source": [
        "Qual a dimensão de a_numeros1?"
      ]
    },
    {
      "cell_type": "code",
      "metadata": {
        "id": "gbHlydALKB3R",
        "outputId": "9bfc6f1a-2e69-48c5-e1d7-7366f54cf326",
        "colab": {
          "base_uri": "https://localhost:8080/",
          "height": 34
        }
      },
      "source": [
        "# Dimensão do array\n",
        "a_numeros1.ndim"
      ],
      "execution_count": null,
      "outputs": [
        {
          "output_type": "execute_result",
          "data": {
            "text/plain": [
              "1"
            ]
          },
          "metadata": {
            "tags": []
          },
          "execution_count": 23
        }
      ]
    },
    {
      "cell_type": "markdown",
      "metadata": {
        "id": "am9otElpKNPa"
      },
      "source": [
        "Qual o shape (dimensão) do array a_numeros1?"
      ]
    },
    {
      "cell_type": "code",
      "metadata": {
        "id": "juJJ74d2wale",
        "outputId": "0cfee8fa-590a-4e6d-ad97-23412fb9ff16",
        "colab": {
          "base_uri": "https://localhost:8080/",
          "height": 34
        }
      },
      "source": [
        "# Números de itens no array\n",
        "a_numeros1.shape"
      ],
      "execution_count": null,
      "outputs": [
        {
          "output_type": "execute_result",
          "data": {
            "text/plain": [
              "(10,)"
            ]
          },
          "metadata": {
            "tags": []
          },
          "execution_count": 24
        }
      ]
    },
    {
      "cell_type": "markdown",
      "metadata": {
        "id": "BHg4Rre3GwPy"
      },
      "source": [
        "O array a_numeros1 poderia ter sido criado usando a função np.arange(inicio, fim, step):"
      ]
    },
    {
      "cell_type": "code",
      "metadata": {
        "id": "I3fyusN7G5Zn"
      },
      "source": [
        "# Lembre-se que o número 10 é exclusive.\n",
        "a_numeros2 = np.arange(start = 0, stop = 10, step = 1)"
      ],
      "execution_count": null,
      "outputs": []
    },
    {
      "cell_type": "markdown",
      "metadata": {
        "id": "IHCEpmUxXsaK"
      },
      "source": [
        "Outra alternativa seria usar np.linspace(start = 0, stop = 10, num = 9). Acompanhe a seguir:"
      ]
    },
    {
      "cell_type": "code",
      "metadata": {
        "id": "JB9Y_x3RX1GX"
      },
      "source": [
        "# Com np.linspace, o valor 9 é inclusive.\n",
        "a_numeros3 = np.linspace(0, 9, 10)"
      ],
      "execution_count": null,
      "outputs": []
    },
    {
      "cell_type": "markdown",
      "metadata": {
        "id": "P6MR8MPeYOZm"
      },
      "source": [
        "Compare os resultados de a_numeros1, a_numeros2 e a_numeros3 a seguir:"
      ]
    },
    {
      "cell_type": "code",
      "metadata": {
        "id": "tWEzge6HYSFu",
        "outputId": "6f2257c3-8f53-4c67-ae80-08fe4ab29e96",
        "colab": {
          "base_uri": "https://localhost:8080/",
          "height": 34
        }
      },
      "source": [
        "a_numeros1"
      ],
      "execution_count": null,
      "outputs": [
        {
          "output_type": "execute_result",
          "data": {
            "text/plain": [
              "array([0, 1, 2, 3, 4, 5, 6, 7, 8, 9])"
            ]
          },
          "metadata": {
            "tags": []
          },
          "execution_count": 27
        }
      ]
    },
    {
      "cell_type": "code",
      "metadata": {
        "id": "lUNlFVKYYT9f",
        "outputId": "ba6a94aa-0118-4ad7-e290-304b1459b590",
        "colab": {
          "base_uri": "https://localhost:8080/",
          "height": 34
        }
      },
      "source": [
        "a_numeros2"
      ],
      "execution_count": null,
      "outputs": [
        {
          "output_type": "execute_result",
          "data": {
            "text/plain": [
              "array([0, 1, 2, 3, 4, 5, 6, 7, 8, 9])"
            ]
          },
          "metadata": {
            "tags": []
          },
          "execution_count": 28
        }
      ]
    },
    {
      "cell_type": "code",
      "metadata": {
        "id": "Xo8Lid5fYVPW",
        "outputId": "b2069fea-0786-472d-c84f-0169ebed9813",
        "colab": {
          "base_uri": "https://localhost:8080/",
          "height": 34
        }
      },
      "source": [
        "a_numeros3"
      ],
      "execution_count": null,
      "outputs": [
        {
          "output_type": "execute_result",
          "data": {
            "text/plain": [
              "array([0., 1., 2., 3., 4., 5., 6., 7., 8., 9.])"
            ]
          },
          "metadata": {
            "tags": []
          },
          "execution_count": 29
        }
      ]
    },
    {
      "cell_type": "markdown",
      "metadata": {
        "id": "V9aW7C4vHAcF"
      },
      "source": [
        "Ou seja, a_numeros1 é igual a a_numeros2 que também é igual a a_numeros3. Ok?\n",
        "\n",
        "**ATENÇÃO**: Observe que a sintaxe para criar a_numeros3 é ligeiramente diferente da sintaxe usada para criar a_numeros1 e a_numeros2. Abaixo, a sintaxe do comando np.linspace:\n",
        "\n",
        "![](https://github.com/MathMachado/Materials/blob/master/linspace_sintaxe.PNG?raw=true)\n",
        "\n",
        "Source: [HOW TO USE THE NUMPY LINSPACE FUNCTION](https://www.sharpsightlabs.com/blog/numpy-linspace/)"
      ]
    },
    {
      "cell_type": "markdown",
      "metadata": {
        "id": "KNnwZa3uvYqE"
      },
      "source": [
        "Soma 2 à cada item de a_numeros1:"
      ]
    },
    {
      "cell_type": "code",
      "metadata": {
        "id": "Jt2KVyviw0bp",
        "outputId": "d8512d16-494a-404f-a225-72cae00cc6b2",
        "colab": {
          "base_uri": "https://localhost:8080/",
          "height": 34
        }
      },
      "source": [
        "a_numeros1"
      ],
      "execution_count": null,
      "outputs": [
        {
          "output_type": "execute_result",
          "data": {
            "text/plain": [
              "array([0, 1, 2, 3, 4, 5, 6, 7, 8, 9])"
            ]
          },
          "metadata": {
            "tags": []
          },
          "execution_count": 30
        }
      ]
    },
    {
      "cell_type": "code",
      "metadata": {
        "id": "arROkhWXbdTW",
        "outputId": "ce74c588-d2a5-4b18-b8ee-b9da6b6b50d8",
        "colab": {
          "base_uri": "https://localhost:8080/",
          "height": 34
        }
      },
      "source": [
        "a_numeros2 = a_numeros1 + 2\n",
        "a_numeros2"
      ],
      "execution_count": null,
      "outputs": [
        {
          "output_type": "execute_result",
          "data": {
            "text/plain": [
              "array([ 2,  3,  4,  5,  6,  7,  8,  9, 10, 11])"
            ]
          },
          "metadata": {
            "tags": []
          },
          "execution_count": 31
        }
      ]
    },
    {
      "cell_type": "markdown",
      "metadata": {
        "id": "ZJx2vG86vdVi"
      },
      "source": [
        "Multiplicar por 10 cada item de a_numeros1:"
      ]
    },
    {
      "cell_type": "code",
      "metadata": {
        "id": "Vm7abO6Ebkun",
        "outputId": "3270c54c-a596-4a3c-cdf2-13357f15a019",
        "colab": {
          "base_uri": "https://localhost:8080/",
          "height": 34
        }
      },
      "source": [
        "a_numeros1 = a_numeros1*10\n",
        "a_numeros1"
      ],
      "execution_count": null,
      "outputs": [
        {
          "output_type": "execute_result",
          "data": {
            "text/plain": [
              "array([ 0, 10, 20, 30, 40, 50, 60, 70, 80, 90])"
            ]
          },
          "metadata": {
            "tags": []
          },
          "execution_count": 32
        }
      ]
    },
    {
      "cell_type": "markdown",
      "metadata": {
        "id": "0Ev1xnBwaYJG"
      },
      "source": [
        "___\n",
        "# **Criar Arrays Multidimensionais**\n",
        "> Ao criarmos, por exemplo, um array 2D, então a chamamos de matriz."
      ]
    },
    {
      "cell_type": "markdown",
      "metadata": {
        "id": "gHaeAug5vjjd"
      },
      "source": [
        "Criar o array com 2 linhas e 3 colunas usando números aleatórios:"
      ]
    },
    {
      "cell_type": "code",
      "metadata": {
        "id": "VDi0vIPSYR4F",
        "outputId": "71a38f47-bb0e-42f0-c954-ea16b08fc24f",
        "colab": {
          "base_uri": "https://localhost:8080/",
          "height": 51
        }
      },
      "source": [
        "np.random.seed(20111974)\n",
        "a_numeros1 = np.random.randn(2, 3)\n",
        "a_numeros1"
      ],
      "execution_count": null,
      "outputs": [
        {
          "output_type": "execute_result",
          "data": {
            "text/plain": [
              "array([[2.51, 1.11, 2.06],\n",
              "       [0.56, 0.3 , 1.05]])"
            ]
          },
          "metadata": {
            "tags": []
          },
          "execution_count": 33
        }
      ]
    },
    {
      "cell_type": "markdown",
      "metadata": {
        "id": "DIdd-nA3tJjV"
      },
      "source": [
        "## Dimensão de um array\n",
        "> Dimensão é o número de linhas e colunas da matriz."
      ]
    },
    {
      "cell_type": "code",
      "metadata": {
        "id": "pKvjjnkrK-v7",
        "outputId": "8112f78a-39fa-4749-a688-a6b7ff634453",
        "colab": {
          "base_uri": "https://localhost:8080/",
          "height": 34
        }
      },
      "source": [
        "a_numeros1.shape"
      ],
      "execution_count": null,
      "outputs": [
        {
          "output_type": "execute_result",
          "data": {
            "text/plain": [
              "(2, 3)"
            ]
          },
          "metadata": {
            "tags": []
          },
          "execution_count": 34
        }
      ]
    },
    {
      "cell_type": "markdown",
      "metadata": {
        "id": "-DHS5jXELCfa"
      },
      "source": [
        "a_numeros1 é um array 2D (ou matriz), ou seja, 2 linhas, onde cada linha tem 3 elementos."
      ]
    },
    {
      "cell_type": "markdown",
      "metadata": {
        "id": "HJI6X1wvv4Bg"
      },
      "source": [
        "Criar um array com 3 linhas e 3 colunas:"
      ]
    },
    {
      "cell_type": "code",
      "metadata": {
        "id": "hXPbWh3Tv26T",
        "outputId": "93a4fdfc-0fed-4ac4-bc82-3e28dfade25e",
        "colab": {
          "base_uri": "https://localhost:8080/",
          "height": 68
        }
      },
      "source": [
        "a_numeros2 = np.array([[1, 2, 3],[4, 5, 6],[7, 8, 9]])\n",
        "a_numeros2"
      ],
      "execution_count": null,
      "outputs": [
        {
          "output_type": "execute_result",
          "data": {
            "text/plain": [
              "array([[1, 2, 3],\n",
              "       [4, 5, 6],\n",
              "       [7, 8, 9]])"
            ]
          },
          "metadata": {
            "tags": []
          },
          "execution_count": 35
        }
      ]
    },
    {
      "cell_type": "code",
      "metadata": {
        "id": "we6ZJOICc7bQ",
        "outputId": "e75c5149-60f4-4bd5-f6da-34e9aa54a7b1",
        "colab": {
          "base_uri": "https://localhost:8080/",
          "height": 34
        }
      },
      "source": [
        "# Número de linhas e colunas de a_numeros1:\n",
        "a_numeros1.shape"
      ],
      "execution_count": null,
      "outputs": [
        {
          "output_type": "execute_result",
          "data": {
            "text/plain": [
              "(2, 3)"
            ]
          },
          "metadata": {
            "tags": []
          },
          "execution_count": 36
        }
      ]
    },
    {
      "cell_type": "code",
      "metadata": {
        "id": "f0ocwuI1dED6",
        "outputId": "ccda19ad-032c-4fb9-951a-385fd694724c",
        "colab": {
          "base_uri": "https://localhost:8080/",
          "height": 34
        }
      },
      "source": [
        "# Número de linhas e colunas de a_numeros2\n",
        "a_numeros2.shape"
      ],
      "execution_count": null,
      "outputs": [
        {
          "output_type": "execute_result",
          "data": {
            "text/plain": [
              "(3, 3)"
            ]
          },
          "metadata": {
            "tags": []
          },
          "execution_count": 37
        }
      ]
    },
    {
      "cell_type": "code",
      "metadata": {
        "id": "CApPtnW0YuRP",
        "outputId": "fe719867-d991-43e7-e9b8-0035480a35cb",
        "colab": {
          "base_uri": "https://localhost:8080/",
          "height": 68
        }
      },
      "source": [
        "# Somar 2 à cada elemento de a_numeros2\n",
        "a_numeros2 = a_numeros2+2\n",
        "a_numeros2"
      ],
      "execution_count": null,
      "outputs": [
        {
          "output_type": "execute_result",
          "data": {
            "text/plain": [
              "array([[ 3,  4,  5],\n",
              "       [ 6,  7,  8],\n",
              "       [ 9, 10, 11]])"
            ]
          },
          "metadata": {
            "tags": []
          },
          "execution_count": 38
        }
      ]
    },
    {
      "cell_type": "code",
      "metadata": {
        "id": "M87aGmxRY3RW",
        "outputId": "fac051c7-b71f-4816-df5c-dbbb8e070b6a",
        "colab": {
          "base_uri": "https://localhost:8080/",
          "height": 68
        }
      },
      "source": [
        "# Multiplicar por 10 cada elemento de a_numeros2\n",
        "a_numeros2 = a_numeros2*10\n",
        "a_numeros2"
      ],
      "execution_count": null,
      "outputs": [
        {
          "output_type": "execute_result",
          "data": {
            "text/plain": [
              "array([[ 30,  40,  50],\n",
              "       [ 60,  70,  80],\n",
              "       [ 90, 100, 110]])"
            ]
          },
          "metadata": {
            "tags": []
          },
          "execution_count": 39
        }
      ]
    },
    {
      "cell_type": "markdown",
      "metadata": {
        "id": "qZt93y1IL_v7"
      },
      "source": [
        "___\n",
        "# **Copiar arrays**\n",
        "> Considere o array abaixo:"
      ]
    },
    {
      "cell_type": "code",
      "metadata": {
        "id": "sH2FTXj5MRRC",
        "outputId": "0123594a-2298-41cb-ce67-bbb7a40f805e",
        "colab": {
          "base_uri": "https://localhost:8080/",
          "height": 51
        }
      },
      "source": [
        "np.random.seed(20111974)\n",
        "a_numeros1 = np.random.randn(2, 3)\n",
        "a_numeros1"
      ],
      "execution_count": null,
      "outputs": [
        {
          "output_type": "execute_result",
          "data": {
            "text/plain": [
              "array([[2.51, 1.11, 2.06],\n",
              "       [0.56, 0.3 , 1.05]])"
            ]
          },
          "metadata": {
            "tags": []
          },
          "execution_count": 40
        }
      ]
    },
    {
      "cell_type": "markdown",
      "metadata": {
        "id": "VtgKeMt6MYrr"
      },
      "source": [
        "Fazendo a cópia de a_numeros1..."
      ]
    },
    {
      "cell_type": "code",
      "metadata": {
        "id": "K0hOHR3IMa-o",
        "outputId": "ff6b03c2-950b-4d7e-ef17-bfb0015d9236",
        "colab": {
          "base_uri": "https://localhost:8080/",
          "height": 51
        }
      },
      "source": [
        "a_numeros1_copia = a_numeros1.copy()\n",
        "a_numeros1_copia"
      ],
      "execution_count": null,
      "outputs": [
        {
          "output_type": "execute_result",
          "data": {
            "text/plain": [
              "array([[2.51, 1.11, 2.06],\n",
              "       [0.56, 0.3 , 1.05]])"
            ]
          },
          "metadata": {
            "tags": []
          },
          "execution_count": 41
        }
      ]
    },
    {
      "cell_type": "markdown",
      "metadata": {
        "id": "lFpmcR0HkCar"
      },
      "source": [
        "___\n",
        "# **Operações com arrays**\n",
        "> Considere um array com temperaturas em Farenheit dado por:"
      ]
    },
    {
      "cell_type": "code",
      "metadata": {
        "id": "VnagcUqVkLhW",
        "outputId": "219aa04a-a321-4451-f4f5-b45e53fc4b96",
        "colab": {
          "base_uri": "https://localhost:8080/",
          "height": 34
        }
      },
      "source": [
        "# Define a seed\n",
        "np.random.seed(20111974)\n",
        "\n",
        "a_temperatura_farenheit = np.array(np.random.randint(0, 100, 10))\n",
        "a_temperatura_farenheit                                        "
      ],
      "execution_count": null,
      "outputs": [
        {
          "output_type": "execute_result",
          "data": {
            "text/plain": [
              "array([60, 42, 40,  8, 27,  2, 46, 88, 81, 88])"
            ]
          },
          "metadata": {
            "tags": []
          },
          "execution_count": 42
        }
      ]
    },
    {
      "cell_type": "code",
      "metadata": {
        "id": "VrjNKfXxk1yv",
        "outputId": "feba9bd1-be2e-4115-cba0-3fb97127b59f",
        "colab": {
          "base_uri": "https://localhost:8080/",
          "height": 34
        }
      },
      "source": [
        "type(a_temperatura_farenheit)"
      ],
      "execution_count": null,
      "outputs": [
        {
          "output_type": "execute_result",
          "data": {
            "text/plain": [
              "numpy.ndarray"
            ]
          },
          "metadata": {
            "tags": []
          },
          "execution_count": 43
        }
      ]
    },
    {
      "cell_type": "markdown",
      "metadata": {
        "id": "o1STejhrk0kZ"
      },
      "source": [
        "Transformando a temperatura Fahrenheit em Celsius..."
      ]
    },
    {
      "cell_type": "code",
      "metadata": {
        "id": "E_jXflR_lNy3",
        "outputId": "24e91883-9271-4c02-8660-e3c8667341ca",
        "colab": {
          "base_uri": "https://localhost:8080/",
          "height": 51
        }
      },
      "source": [
        "a_temperatura_celsius = 5*a_temperatura_farenheit/9 - 5*32/9\n",
        "a_temperatura_celsius"
      ],
      "execution_count": null,
      "outputs": [
        {
          "output_type": "execute_result",
          "data": {
            "text/plain": [
              "array([ 15.56,   5.56,   4.44, -13.33,  -2.78, -16.67,   7.78,  31.11,\n",
              "        27.22,  31.11])"
            ]
          },
          "metadata": {
            "tags": []
          },
          "execution_count": 44
        }
      ]
    },
    {
      "cell_type": "code",
      "metadata": {
        "id": "U4pCv0pNqPZI",
        "outputId": "a7535d3a-74bb-4a6c-c21e-0d564696dcce",
        "colab": {
          "base_uri": "https://localhost:8080/",
          "height": 51
        }
      },
      "source": [
        "# O mesmo resultado, porém, escrito de forma diferente:\n",
        "a_temperatura_celsius = (5/9)*a_temperatura_farenheit - (160/9)\n",
        "a_temperatura_celsius"
      ],
      "execution_count": null,
      "outputs": [
        {
          "output_type": "execute_result",
          "data": {
            "text/plain": [
              "array([ 15.56,   5.56,   4.44, -13.33,  -2.78, -16.67,   7.78,  31.11,\n",
              "        27.22,  31.11])"
            ]
          },
          "metadata": {
            "tags": []
          },
          "execution_count": 45
        }
      ]
    },
    {
      "cell_type": "markdown",
      "metadata": {
        "id": "1UT4YD2FawUA"
      },
      "source": [
        "___\n",
        "# **Selecionar itens**"
      ]
    },
    {
      "cell_type": "code",
      "metadata": {
        "id": "pqOv8P1za1m8",
        "outputId": "39f8c33f-7bbc-4f64-eafc-7d7962f6d043",
        "colab": {
          "base_uri": "https://localhost:8080/",
          "height": 34
        }
      },
      "source": [
        "# Selecionar o segundo item de a_numeros1 (lembre-se que no Python arrays começam com indice = 0)\n",
        "a_numeros1[1]"
      ],
      "execution_count": null,
      "outputs": [
        {
          "output_type": "execute_result",
          "data": {
            "text/plain": [
              "array([0.56, 0.3 , 1.05])"
            ]
          },
          "metadata": {
            "tags": []
          },
          "execution_count": 46
        }
      ]
    },
    {
      "cell_type": "markdown",
      "metadata": {
        "id": "TIwVKk6AyRv6"
      },
      "source": [
        "Dado a_numeros2 abaixo:"
      ]
    },
    {
      "cell_type": "code",
      "metadata": {
        "id": "zoDmbXo6bCeu",
        "outputId": "6745d4a1-b38a-4b7d-c52d-c0ef3ccdb738",
        "colab": {
          "base_uri": "https://localhost:8080/",
          "height": 68
        }
      },
      "source": [
        "a_numeros2"
      ],
      "execution_count": null,
      "outputs": [
        {
          "output_type": "execute_result",
          "data": {
            "text/plain": [
              "array([[ 30,  40,  50],\n",
              "       [ 60,  70,  80],\n",
              "       [ 90, 100, 110]])"
            ]
          },
          "metadata": {
            "tags": []
          },
          "execution_count": 47
        }
      ]
    },
    {
      "cell_type": "markdown",
      "metadata": {
        "id": "iJXSPp-0yb4w"
      },
      "source": [
        "... selecionar o item da linha 2, coluna 3 do array a_numeros2:"
      ]
    },
    {
      "cell_type": "code",
      "metadata": {
        "id": "sJiVfnlzcjRv",
        "outputId": "59ccbf2d-8e86-4d52-ba5b-26d79575863e",
        "colab": {
          "base_uri": "https://localhost:8080/",
          "height": 34
        }
      },
      "source": [
        "a_numeros2[1, 2]"
      ],
      "execution_count": null,
      "outputs": [
        {
          "output_type": "execute_result",
          "data": {
            "text/plain": [
              "80"
            ]
          },
          "metadata": {
            "tags": []
          },
          "execution_count": 48
        }
      ]
    },
    {
      "cell_type": "code",
      "metadata": {
        "id": "Xl5HwJIMcv2e",
        "outputId": "3fb42ea3-e8f0-4367-875f-5d698b2c0948",
        "colab": {
          "base_uri": "https://localhost:8080/",
          "height": 34
        }
      },
      "source": [
        "# Selecionar o último elemento de a_numeros1 --> Lembre-se que a_numeros1 é um array. Desta forma, teremos o último elemento do array!\n",
        "a_numeros1[-1]"
      ],
      "execution_count": null,
      "outputs": [
        {
          "output_type": "execute_result",
          "data": {
            "text/plain": [
              "array([0.56, 0.3 , 1.05])"
            ]
          },
          "metadata": {
            "tags": []
          },
          "execution_count": 49
        }
      ]
    },
    {
      "cell_type": "markdown",
      "metadata": {
        "id": "ezTH0HsyrnAl"
      },
      "source": [
        "Veja..."
      ]
    },
    {
      "cell_type": "code",
      "metadata": {
        "id": "OBv9EM54rYX3",
        "outputId": "3a0d6a19-e0c5-4b28-8476-71db0c54ed78",
        "colab": {
          "base_uri": "https://localhost:8080/",
          "height": 51
        }
      },
      "source": [
        "a_numeros1"
      ],
      "execution_count": null,
      "outputs": [
        {
          "output_type": "execute_result",
          "data": {
            "text/plain": [
              "array([[2.51, 1.11, 2.06],\n",
              "       [0.56, 0.3 , 1.05]])"
            ]
          },
          "metadata": {
            "tags": []
          },
          "execution_count": 50
        }
      ]
    },
    {
      "cell_type": "code",
      "metadata": {
        "id": "Po3WLFC-rod8",
        "outputId": "a7a9e4d5-3a90-4d83-fb3e-2a94bcc42678",
        "colab": {
          "base_uri": "https://localhost:8080/",
          "height": 34
        }
      },
      "source": [
        "a_temperatura_celsius[-1]"
      ],
      "execution_count": null,
      "outputs": [
        {
          "output_type": "execute_result",
          "data": {
            "text/plain": [
              "31.111111111111114"
            ]
          },
          "metadata": {
            "tags": []
          },
          "execution_count": 51
        }
      ]
    },
    {
      "cell_type": "markdown",
      "metadata": {
        "id": "4qJJ2HCedW4h"
      },
      "source": [
        "___\n",
        "# **Aplicar funções como max(), min() e etc**"
      ]
    },
    {
      "cell_type": "code",
      "metadata": {
        "id": "_meTJdUsda4e",
        "outputId": "890850a8-0fb0-4173-a260-0a1e281307c8",
        "colab": {
          "base_uri": "https://localhost:8080/",
          "height": 35
        }
      },
      "source": [
        "f'O máximo de a_numeros1 é: {np.max(a_numeros1)}'"
      ],
      "execution_count": null,
      "outputs": [
        {
          "output_type": "execute_result",
          "data": {
            "application/vnd.google.colaboratory.intrinsic+json": {
              "type": "string"
            },
            "text/plain": [
              "'O máximo de a_numeros1 é: 2.506276801325959'"
            ]
          },
          "metadata": {
            "tags": []
          },
          "execution_count": 52
        }
      ]
    },
    {
      "cell_type": "code",
      "metadata": {
        "id": "m-wiBkAidnhN",
        "outputId": "0ee84158-f3d2-4dec-8c60-2a78480adf4a",
        "colab": {
          "base_uri": "https://localhost:8080/",
          "height": 35
        }
      },
      "source": [
        "f'O mínimo de a_numeros1 é: {np.min(a_numeros1)}'"
      ],
      "execution_count": null,
      "outputs": [
        {
          "output_type": "execute_result",
          "data": {
            "application/vnd.google.colaboratory.intrinsic+json": {
              "type": "string"
            },
            "text/plain": [
              "'O mínimo de a_numeros1 é: 0.29897275739745677'"
            ]
          },
          "metadata": {
            "tags": []
          },
          "execution_count": 53
        }
      ]
    },
    {
      "cell_type": "code",
      "metadata": {
        "id": "lmupnRHQdtwh",
        "outputId": "e2847697-d8c2-4736-a9b2-01e03e81735f",
        "colab": {
          "base_uri": "https://localhost:8080/",
          "height": 35
        }
      },
      "source": [
        "f'O máximo de a_numeros2 é: {np.max(a_numeros2)}'"
      ],
      "execution_count": null,
      "outputs": [
        {
          "output_type": "execute_result",
          "data": {
            "application/vnd.google.colaboratory.intrinsic+json": {
              "type": "string"
            },
            "text/plain": [
              "'O máximo de a_numeros2 é: 110'"
            ]
          },
          "metadata": {
            "tags": []
          },
          "execution_count": 54
        }
      ]
    },
    {
      "cell_type": "code",
      "metadata": {
        "id": "H2z7oB6Bd786",
        "outputId": "67ef3000-c317-4454-d6c6-b066203407ff",
        "colab": {
          "base_uri": "https://localhost:8080/",
          "height": 35
        }
      },
      "source": [
        "f'O máximo de cada LINHA de a_numeros2 é: {np.max(a_numeros2, axis = 1)}' # Aqui, axis = 1 é que diz ao numpy que estamos interessados nas linhas"
      ],
      "execution_count": null,
      "outputs": [
        {
          "output_type": "execute_result",
          "data": {
            "application/vnd.google.colaboratory.intrinsic+json": {
              "type": "string"
            },
            "text/plain": [
              "'O máximo de cada LINHA de a_numeros2 é: [ 50  80 110]'"
            ]
          },
          "metadata": {
            "tags": []
          },
          "execution_count": 55
        }
      ]
    },
    {
      "cell_type": "code",
      "metadata": {
        "id": "gj2ZBDsWeMyk",
        "outputId": "84bd7ad7-5f37-4d0c-f462-87d4e014d0d5",
        "colab": {
          "base_uri": "https://localhost:8080/",
          "height": 35
        }
      },
      "source": [
        "f'O máximo de cada COLUNA de a_numeros2 é: {np.max(a_numeros2, axis = 0)}' # axis = 0, diz ao numpy que estamos interessados nas colunas."
      ],
      "execution_count": null,
      "outputs": [
        {
          "output_type": "execute_result",
          "data": {
            "application/vnd.google.colaboratory.intrinsic+json": {
              "type": "string"
            },
            "text/plain": [
              "'O máximo de cada COLUNA de a_numeros2 é: [ 90 100 110]'"
            ]
          },
          "metadata": {
            "tags": []
          },
          "execution_count": 56
        }
      ]
    },
    {
      "cell_type": "markdown",
      "metadata": {
        "id": "7_tEfm2IecIU"
      },
      "source": [
        "___\n",
        "# **Calcular Estatísticas Descritivas: média e variância**"
      ]
    },
    {
      "cell_type": "code",
      "metadata": {
        "id": "lIY5jx3ueh7q",
        "outputId": "560c8e91-0cc2-4fa6-df18-33a4f4c3371d",
        "colab": {
          "base_uri": "https://localhost:8080/",
          "height": 35
        }
      },
      "source": [
        "f'A média de a_numeros1 é: {np.mean(a_numeros1)}'"
      ],
      "execution_count": null,
      "outputs": [
        {
          "output_type": "execute_result",
          "data": {
            "application/vnd.google.colaboratory.intrinsic+json": {
              "type": "string"
            },
            "text/plain": [
              "'A média de a_numeros1 é: 1.2649068535973844'"
            ]
          },
          "metadata": {
            "tags": []
          },
          "execution_count": 57
        }
      ]
    },
    {
      "cell_type": "code",
      "metadata": {
        "id": "VmqSELRReuAW",
        "outputId": "a8eace30-bedb-4c88-9e0a-4423047af844",
        "colab": {
          "base_uri": "https://localhost:8080/",
          "height": 35
        }
      },
      "source": [
        "f'A média de a_numeros2 é: {np.mean(a_numeros2)}'"
      ],
      "execution_count": null,
      "outputs": [
        {
          "output_type": "execute_result",
          "data": {
            "application/vnd.google.colaboratory.intrinsic+json": {
              "type": "string"
            },
            "text/plain": [
              "'A média de a_numeros2 é: 70.0'"
            ]
          },
          "metadata": {
            "tags": []
          },
          "execution_count": 58
        }
      ]
    },
    {
      "cell_type": "code",
      "metadata": {
        "id": "Gxap-Wg5e2_H",
        "outputId": "b9f92bab-418f-4670-d1df-602fa0d9b41c",
        "colab": {
          "base_uri": "https://localhost:8080/",
          "height": 35
        }
      },
      "source": [
        "f'O Desvio Padrão de a_numeros2 é: {np.std(a_numeros2)}'"
      ],
      "execution_count": null,
      "outputs": [
        {
          "output_type": "execute_result",
          "data": {
            "application/vnd.google.colaboratory.intrinsic+json": {
              "type": "string"
            },
            "text/plain": [
              "'O Desvio Padrão de a_numeros2 é: 25.81988897471611'"
            ]
          },
          "metadata": {
            "tags": []
          },
          "execution_count": 59
        }
      ]
    },
    {
      "cell_type": "markdown",
      "metadata": {
        "id": "R0GcljGtfBvP"
      },
      "source": [
        "___\n",
        "# **Reshaping**\n",
        "> Muito útil em Machine Learning."
      ]
    },
    {
      "cell_type": "markdown",
      "metadata": {
        "id": "vfEmw01j8zux"
      },
      "source": [
        "## Exemplo 1\n",
        "* O array a_numeros2 tem a seguinte forma:"
      ]
    },
    {
      "cell_type": "code",
      "metadata": {
        "id": "-Lb3VZCCfK_a",
        "outputId": "4d933255-c1b4-41a2-efd0-977bfd27744e",
        "colab": {
          "base_uri": "https://localhost:8080/",
          "height": 68
        }
      },
      "source": [
        "a_numeros2"
      ],
      "execution_count": null,
      "outputs": [
        {
          "output_type": "execute_result",
          "data": {
            "text/plain": [
              "array([[ 30,  40,  50],\n",
              "       [ 60,  70,  80],\n",
              "       [ 90, 100, 110]])"
            ]
          },
          "metadata": {
            "tags": []
          },
          "execution_count": 60
        }
      ]
    },
    {
      "cell_type": "code",
      "metadata": {
        "id": "YWN_nN-4fD7u",
        "outputId": "a9c1c69b-98d6-4aaf-a8a7-8ad4f6ab5a5d",
        "colab": {
          "base_uri": "https://localhost:8080/",
          "height": 170
        }
      },
      "source": [
        "# reshaping para 9 linhas e 1 coluna:\n",
        "a_numeros2.reshape(9, 1) # a_numeros2.reshape(9,-1) produz o mesmo resultado."
      ],
      "execution_count": null,
      "outputs": [
        {
          "output_type": "execute_result",
          "data": {
            "text/plain": [
              "array([[ 30],\n",
              "       [ 40],\n",
              "       [ 50],\n",
              "       [ 60],\n",
              "       [ 70],\n",
              "       [ 80],\n",
              "       [ 90],\n",
              "       [100],\n",
              "       [110]])"
            ]
          },
          "metadata": {
            "tags": []
          },
          "execution_count": 61
        }
      ]
    },
    {
      "cell_type": "markdown",
      "metadata": {
        "id": "id9ILRRt7SwY"
      },
      "source": [
        "## Mais um exemplo de Reshape\n",
        "> Dado o array 1D abaixo, reshape para um array 3D com 2 colunas."
      ]
    },
    {
      "cell_type": "code",
      "metadata": {
        "id": "9RA9Ht2b7Swd",
        "outputId": "23ab3665-a4f5-4655-fd8c-30180234a37b",
        "colab": {
          "base_uri": "https://localhost:8080/",
          "height": 34
        }
      },
      "source": [
        "# Define seed\n",
        "np.random.seed(20111974)\n",
        "a_numeros1 = np.array(np.random.randint(1, 10, size = 15))\n",
        "a_numeros1"
      ],
      "execution_count": null,
      "outputs": [
        {
          "output_type": "execute_result",
          "data": {
            "text/plain": [
              "array([9, 9, 3, 9, 2, 9, 1, 5, 3, 1, 9, 4, 8, 2, 4])"
            ]
          },
          "metadata": {
            "tags": []
          },
          "execution_count": 62
        }
      ]
    },
    {
      "cell_type": "code",
      "metadata": {
        "id": "V8nAfnvvu4zF",
        "outputId": "e337162c-298f-4f1b-f82c-fd48e91bba6a",
        "colab": {
          "base_uri": "https://localhost:8080/",
          "height": 102
        }
      },
      "source": [
        "a_numeros1.reshape(-1,3)"
      ],
      "execution_count": null,
      "outputs": [
        {
          "output_type": "execute_result",
          "data": {
            "text/plain": [
              "array([[9, 9, 3],\n",
              "       [9, 2, 9],\n",
              "       [1, 5, 3],\n",
              "       [1, 9, 4],\n",
              "       [8, 2, 4]])"
            ]
          },
          "metadata": {
            "tags": []
          },
          "execution_count": 65
        }
      ]
    },
    {
      "cell_type": "markdown",
      "metadata": {
        "id": "8KxR4xZT7cRv"
      },
      "source": [
        "### Solução\n",
        "> Temos 15 elementos em a_numeros1 para construir (\"reshape\") um array 3D com 2 colunas.\n",
        "\n",
        "A princípio, a solução seria..."
      ]
    },
    {
      "cell_type": "code",
      "metadata": {
        "id": "VMdHl1Il7wLw",
        "outputId": "d51c7263-f523-4af8-9606-ee93cab66f1c",
        "colab": {
          "base_uri": "https://localhost:8080/",
          "height": 162
        }
      },
      "source": [
        "a_numeros1.reshape(-1, 2) # O valor \"-1\" na posição das linhas pede ao NumPy para calcular o número de linhas automaticamente."
      ],
      "execution_count": null,
      "outputs": [
        {
          "output_type": "error",
          "ename": "ValueError",
          "evalue": "ignored",
          "traceback": [
            "\u001b[0;31m---------------------------------------------------------------------------\u001b[0m",
            "\u001b[0;31mValueError\u001b[0m                                Traceback (most recent call last)",
            "\u001b[0;32m<ipython-input-20-5c1eeb799b8d>\u001b[0m in \u001b[0;36m<module>\u001b[0;34m()\u001b[0m\n\u001b[0;32m----> 1\u001b[0;31m \u001b[0ma_numeros1\u001b[0m\u001b[0;34m.\u001b[0m\u001b[0mreshape\u001b[0m\u001b[0;34m(\u001b[0m\u001b[0;34m-\u001b[0m\u001b[0;36m1\u001b[0m\u001b[0;34m,\u001b[0m \u001b[0;36m2\u001b[0m\u001b[0;34m)\u001b[0m \u001b[0;31m# O valor \"-1\" na posição das linhas pede ao NumPy para calcular o número de linhas automaticamente.\u001b[0m\u001b[0;34m\u001b[0m\u001b[0;34m\u001b[0m\u001b[0m\n\u001b[0m",
            "\u001b[0;31mValueError\u001b[0m: cannot reshape array of size 15 into shape (2)"
          ]
        }
      ]
    },
    {
      "cell_type": "markdown",
      "metadata": {
        "id": "pZS4b4-y708q"
      },
      "source": [
        "Porque temos esse erro?"
      ]
    },
    {
      "cell_type": "markdown",
      "metadata": {
        "id": "4disywvR8HeH"
      },
      "source": [
        "E se fizermos..."
      ]
    },
    {
      "cell_type": "code",
      "metadata": {
        "id": "3oEAAXTp8I7Z",
        "outputId": "cad34142-273a-45b0-d63f-b1d66e1a335d",
        "colab": {
          "base_uri": "https://localhost:8080/",
          "height": 34
        }
      },
      "source": [
        "# Define seed\n",
        "np.random.seed(20111974)\n",
        "a_numeros1 = np.array(np.random.randint(1, 10, size = 16)) # Observe que agora temos 16 elementos\n",
        "a_numeros1"
      ],
      "execution_count": null,
      "outputs": [
        {
          "output_type": "execute_result",
          "data": {
            "text/plain": [
              "array([9, 9, 3, 9, 2, 9, 1, 5, 3, 1, 9, 4, 8, 2, 4, 3])"
            ]
          },
          "metadata": {
            "tags": []
          },
          "execution_count": 66
        }
      ]
    },
    {
      "cell_type": "markdown",
      "metadata": {
        "id": "iUhth0QV8Rpt"
      },
      "source": [
        "Reshapping..."
      ]
    },
    {
      "cell_type": "code",
      "metadata": {
        "id": "9D1y7uD88Qip",
        "outputId": "7300ff9d-134a-47fc-b3b1-efeb96000435",
        "colab": {
          "base_uri": "https://localhost:8080/",
          "height": 153
        }
      },
      "source": [
        "a_numeros1.reshape(-1, 2) # O valor \"-1\" na posição das linhas pede ao NumPy para calcular o número de linhas automaticamente."
      ],
      "execution_count": null,
      "outputs": [
        {
          "output_type": "execute_result",
          "data": {
            "text/plain": [
              "array([[9, 9],\n",
              "       [3, 9],\n",
              "       [2, 9],\n",
              "       [1, 5],\n",
              "       [3, 1],\n",
              "       [9, 4],\n",
              "       [8, 2],\n",
              "       [4, 3]])"
            ]
          },
          "metadata": {
            "tags": []
          },
          "execution_count": 67
        }
      ]
    },
    {
      "cell_type": "code",
      "metadata": {
        "id": "ALh-sq7DMnN5",
        "outputId": "d5ca668c-d124-4e0e-842a-4b2d50c4b7db",
        "colab": {
          "base_uri": "https://localhost:8080/",
          "height": 153
        }
      },
      "source": [
        "# OU --> Neste caso, estamos reshaping o array em 8 linhas e 2 colunas\n",
        "a_numeros1.reshape(8, -1)"
      ],
      "execution_count": null,
      "outputs": [
        {
          "output_type": "execute_result",
          "data": {
            "text/plain": [
              "array([[9, 9],\n",
              "       [3, 9],\n",
              "       [2, 9],\n",
              "       [1, 5],\n",
              "       [3, 1],\n",
              "       [9, 4],\n",
              "       [8, 2],\n",
              "       [4, 3]])"
            ]
          },
          "metadata": {
            "tags": []
          },
          "execution_count": 68
        }
      ]
    },
    {
      "cell_type": "markdown",
      "metadata": {
        "id": "yvTnrszn8Yk0"
      },
      "source": [
        "Porque agora deu certo?"
      ]
    },
    {
      "cell_type": "markdown",
      "metadata": {
        "id": "LeQ9LqIE8baG"
      },
      "source": [
        "## Último exemplo com reshape\n",
        "> Considere o array a seguir:"
      ]
    },
    {
      "cell_type": "code",
      "metadata": {
        "id": "OQOC9iiN8hZT",
        "outputId": "0a00660a-6a21-4854-fb46-3b00ec71efe6",
        "colab": {
          "base_uri": "https://localhost:8080/",
          "height": 51
        }
      },
      "source": [
        "np.random.seed(20111974)\n",
        "a_numeros1 = np.random.randn(2, 3)\n",
        "a_numeros1"
      ],
      "execution_count": null,
      "outputs": [
        {
          "output_type": "execute_result",
          "data": {
            "text/plain": [
              "array([[2.51, 1.11, 2.06],\n",
              "       [0.56, 0.3 , 1.05]])"
            ]
          },
          "metadata": {
            "tags": []
          },
          "execution_count": 69
        }
      ]
    },
    {
      "cell_type": "markdown",
      "metadata": {
        "id": "Cvce8qBl9Cvq"
      },
      "source": [
        "Queremos agora transformá-la num array de 3 linhas e 2 colunas."
      ]
    },
    {
      "cell_type": "code",
      "metadata": {
        "id": "QDDsYoVt9Klz",
        "outputId": "25764d3a-0313-4681-ffa3-72fbe2a852ed",
        "colab": {
          "base_uri": "https://localhost:8080/",
          "height": 68
        }
      },
      "source": [
        "a_numeros1.reshape(-1, 2)"
      ],
      "execution_count": null,
      "outputs": [
        {
          "output_type": "execute_result",
          "data": {
            "text/plain": [
              "array([[2.51, 1.11],\n",
              "       [2.06, 0.56],\n",
              "       [0.3 , 1.05]])"
            ]
          },
          "metadata": {
            "tags": []
          },
          "execution_count": 71
        }
      ]
    },
    {
      "cell_type": "markdown",
      "metadata": {
        "id": "AdwU5ygt9Svq"
      },
      "source": [
        "Poderia ser..."
      ]
    },
    {
      "cell_type": "code",
      "metadata": {
        "id": "5uBeokKc9Uo-",
        "outputId": "e5ae7e6f-18c8-4a14-9931-cffa3a2c564e",
        "colab": {
          "base_uri": "https://localhost:8080/",
          "height": 68
        }
      },
      "source": [
        "a_numeros1.reshape(3, -1)"
      ],
      "execution_count": null,
      "outputs": [
        {
          "output_type": "execute_result",
          "data": {
            "text/plain": [
              "array([[2.51, 1.11],\n",
              "       [2.06, 0.56],\n",
              "       [0.3 , 1.05]])"
            ]
          },
          "metadata": {
            "tags": []
          },
          "execution_count": 70
        }
      ]
    },
    {
      "cell_type": "markdown",
      "metadata": {
        "id": "OeRBsobc9aKj"
      },
      "source": [
        "E por fim, também poderia ser..."
      ]
    },
    {
      "cell_type": "code",
      "metadata": {
        "id": "MDt8UYYH9dBw",
        "outputId": "8910d5b0-e9bc-424c-cbe9-5818b8a7e44c",
        "colab": {
          "base_uri": "https://localhost:8080/",
          "height": 68
        }
      },
      "source": [
        "a_numeros1.reshape(3, 2)"
      ],
      "execution_count": null,
      "outputs": [
        {
          "output_type": "execute_result",
          "data": {
            "text/plain": [
              "array([[2.51, 1.11],\n",
              "       [2.06, 0.56],\n",
              "       [0.3 , 1.05]])"
            ]
          },
          "metadata": {
            "tags": []
          },
          "execution_count": 72
        }
      ]
    },
    {
      "cell_type": "markdown",
      "metadata": {
        "id": "91o5vycQfdKW"
      },
      "source": [
        "___\n",
        "# **Transposta**\n",
        "* O array a_numeros2 tem a seguinte forma:"
      ]
    },
    {
      "cell_type": "code",
      "metadata": {
        "id": "RsZwyuhoffjb",
        "outputId": "8733d709-7b71-416f-c069-f419aa7a98a2",
        "colab": {
          "base_uri": "https://localhost:8080/",
          "height": 68
        }
      },
      "source": [
        "a_numeros2"
      ],
      "execution_count": null,
      "outputs": [
        {
          "output_type": "execute_result",
          "data": {
            "text/plain": [
              "array([[ 30,  40,  50],\n",
              "       [ 60,  70,  80],\n",
              "       [ 90, 100, 110]])"
            ]
          },
          "metadata": {
            "tags": []
          },
          "execution_count": 73
        }
      ]
    },
    {
      "cell_type": "code",
      "metadata": {
        "id": "A3MzTVoGfiyO",
        "outputId": "c817cd0b-6391-43d3-cf25-6e1bb9912c4d",
        "colab": {
          "base_uri": "https://localhost:8080/",
          "height": 68
        }
      },
      "source": [
        "# Transposta do array a_numeros2 é dado por:\n",
        "a_numeros2.T"
      ],
      "execution_count": null,
      "outputs": [
        {
          "output_type": "execute_result",
          "data": {
            "text/plain": [
              "array([[ 30,  60,  90],\n",
              "       [ 40,  70, 100],\n",
              "       [ 50,  80, 110]])"
            ]
          },
          "metadata": {
            "tags": []
          },
          "execution_count": 74
        }
      ]
    },
    {
      "cell_type": "markdown",
      "metadata": {
        "id": "Ij-ZW5IyzXIb"
      },
      "source": [
        "Ou seja, linha virou coluna. Ok?"
      ]
    },
    {
      "cell_type": "markdown",
      "metadata": {
        "id": "qLy6ajgpt3lU"
      },
      "source": [
        "# **Inversa da matriz quadrada**\n",
        "> Se uma matriz é não-singular, então sua inversa existe.\n",
        "\n",
        "* Se o determinante de uma matriz  is not equal to zero, then the matrix isé diferente de 0, então a matriz é não-singular."
      ]
    },
    {
      "cell_type": "code",
      "metadata": {
        "id": "-u7jRq34t9_x"
      },
      "source": [
        "import numpy as np\n",
        "\n",
        "a_numeros1 = np.array([[1, 2, 3],[4, 5, 6],[7, 8, 9]])\n",
        "a_numeros2 = np.array([[6, 2], [5, 3]])\n",
        "a_numeros3 = np.array([[1, 3, 5],[2, 5, 1],[2, 3, 8]])"
      ],
      "execution_count": null,
      "outputs": []
    },
    {
      "cell_type": "code",
      "metadata": {
        "id": "7zmHHWWlvaYB",
        "outputId": "89acaa69-c8dd-4707-b511-4cfae4c73b94",
        "colab": {
          "base_uri": "https://localhost:8080/",
          "height": 68
        }
      },
      "source": [
        "a_numeros1"
      ],
      "execution_count": null,
      "outputs": [
        {
          "output_type": "execute_result",
          "data": {
            "text/plain": [
              "array([[1, 2, 3],\n",
              "       [4, 5, 6],\n",
              "       [7, 8, 9]])"
            ]
          },
          "metadata": {
            "tags": []
          },
          "execution_count": 76
        }
      ]
    },
    {
      "cell_type": "code",
      "metadata": {
        "id": "3fHKyhOJvcak",
        "outputId": "7c0a39f7-6164-4d04-f073-b6a081d92c15",
        "colab": {
          "base_uri": "https://localhost:8080/",
          "height": 51
        }
      },
      "source": [
        "a_numeros2"
      ],
      "execution_count": null,
      "outputs": [
        {
          "output_type": "execute_result",
          "data": {
            "text/plain": [
              "array([[6, 2],\n",
              "       [5, 3]])"
            ]
          },
          "metadata": {
            "tags": []
          },
          "execution_count": 77
        }
      ]
    },
    {
      "cell_type": "code",
      "metadata": {
        "id": "vQG7yyfjwLg9",
        "outputId": "d5f05f6b-b8a9-41da-c1b2-f48c79b22e1f",
        "colab": {
          "base_uri": "https://localhost:8080/",
          "height": 68
        }
      },
      "source": [
        "a_numeros3"
      ],
      "execution_count": null,
      "outputs": [
        {
          "output_type": "execute_result",
          "data": {
            "text/plain": [
              "array([[1, 3, 5],\n",
              "       [2, 5, 1],\n",
              "       [2, 3, 8]])"
            ]
          },
          "metadata": {
            "tags": []
          },
          "execution_count": 78
        }
      ]
    },
    {
      "cell_type": "markdown",
      "metadata": {
        "id": "qa2Yre2rwgRk"
      },
      "source": [
        "## Determinantes da matriz quadrada"
      ]
    },
    {
      "cell_type": "code",
      "metadata": {
        "id": "N6jwuC6twkyc",
        "outputId": "c808c901-7590-4877-826f-00a2c16d8ca8",
        "colab": {
          "base_uri": "https://localhost:8080/",
          "height": 34
        }
      },
      "source": [
        "np.linalg.det(a_numeros1)"
      ],
      "execution_count": null,
      "outputs": [
        {
          "output_type": "execute_result",
          "data": {
            "text/plain": [
              "0.0"
            ]
          },
          "metadata": {
            "tags": []
          },
          "execution_count": 79
        }
      ]
    },
    {
      "cell_type": "code",
      "metadata": {
        "id": "QSvViNwzwnhI",
        "outputId": "0579f477-54a0-4653-9cf7-a086eefabc9e",
        "colab": {
          "base_uri": "https://localhost:8080/",
          "height": 34
        }
      },
      "source": [
        "np.linalg.det(a_numeros2)"
      ],
      "execution_count": null,
      "outputs": [
        {
          "output_type": "execute_result",
          "data": {
            "text/plain": [
              "8.000000000000002"
            ]
          },
          "metadata": {
            "tags": []
          },
          "execution_count": 80
        }
      ]
    },
    {
      "cell_type": "code",
      "metadata": {
        "id": "o8jwsnccw5id",
        "outputId": "76fead92-392d-4e36-cda9-0ab0ee3fbd39",
        "colab": {
          "base_uri": "https://localhost:8080/",
          "height": 34
        }
      },
      "source": [
        "np.linalg.det(a_numeros3)"
      ],
      "execution_count": null,
      "outputs": [
        {
          "output_type": "execute_result",
          "data": {
            "text/plain": [
              "-25.000000000000007"
            ]
          },
          "metadata": {
            "tags": []
          },
          "execution_count": 81
        }
      ]
    },
    {
      "cell_type": "markdown",
      "metadata": {
        "id": "kkVaTgzgw_XJ"
      },
      "source": [
        "A seguir, calculamos as inversas das matrizes acima definidas..."
      ]
    },
    {
      "cell_type": "code",
      "metadata": {
        "id": "b9FgWvTYvpik",
        "outputId": "26e9a7fb-ffe4-4a93-b9b0-c377da1e55c8",
        "colab": {
          "base_uri": "https://localhost:8080/",
          "height": 51
        }
      },
      "source": [
        "np.linalg.inv(a_numeros2)"
      ],
      "execution_count": null,
      "outputs": [
        {
          "output_type": "execute_result",
          "data": {
            "text/plain": [
              "array([[ 0.38, -0.25],\n",
              "       [-0.62,  0.75]])"
            ]
          },
          "metadata": {
            "tags": []
          },
          "execution_count": 82
        }
      ]
    },
    {
      "cell_type": "code",
      "metadata": {
        "id": "KsdEt1kIvsM_",
        "outputId": "66d660f0-3fd3-4f83-bd6d-3c5d8bfab53e",
        "colab": {
          "base_uri": "https://localhost:8080/",
          "height": 340
        }
      },
      "source": [
        "np.linalg.inv(a_numeros1)"
      ],
      "execution_count": null,
      "outputs": [
        {
          "output_type": "error",
          "ename": "LinAlgError",
          "evalue": "ignored",
          "traceback": [
            "\u001b[0;31m---------------------------------------------------------------------------\u001b[0m",
            "\u001b[0;31mLinAlgError\u001b[0m                               Traceback (most recent call last)",
            "\u001b[0;32m<ipython-input-83-aca28ea04bdf>\u001b[0m in \u001b[0;36m<module>\u001b[0;34m()\u001b[0m\n\u001b[0;32m----> 1\u001b[0;31m \u001b[0mnp\u001b[0m\u001b[0;34m.\u001b[0m\u001b[0mlinalg\u001b[0m\u001b[0;34m.\u001b[0m\u001b[0minv\u001b[0m\u001b[0;34m(\u001b[0m\u001b[0ma_numeros1\u001b[0m\u001b[0;34m)\u001b[0m\u001b[0;34m\u001b[0m\u001b[0;34m\u001b[0m\u001b[0m\n\u001b[0m",
            "\u001b[0;32m<__array_function__ internals>\u001b[0m in \u001b[0;36minv\u001b[0;34m(*args, **kwargs)\u001b[0m\n",
            "\u001b[0;32m/usr/local/lib/python3.6/dist-packages/numpy/linalg/linalg.py\u001b[0m in \u001b[0;36minv\u001b[0;34m(a)\u001b[0m\n\u001b[1;32m    545\u001b[0m     \u001b[0msignature\u001b[0m \u001b[0;34m=\u001b[0m \u001b[0;34m'D->D'\u001b[0m \u001b[0;32mif\u001b[0m \u001b[0misComplexType\u001b[0m\u001b[0;34m(\u001b[0m\u001b[0mt\u001b[0m\u001b[0;34m)\u001b[0m \u001b[0;32melse\u001b[0m \u001b[0;34m'd->d'\u001b[0m\u001b[0;34m\u001b[0m\u001b[0;34m\u001b[0m\u001b[0m\n\u001b[1;32m    546\u001b[0m     \u001b[0mextobj\u001b[0m \u001b[0;34m=\u001b[0m \u001b[0mget_linalg_error_extobj\u001b[0m\u001b[0;34m(\u001b[0m\u001b[0m_raise_linalgerror_singular\u001b[0m\u001b[0;34m)\u001b[0m\u001b[0;34m\u001b[0m\u001b[0;34m\u001b[0m\u001b[0m\n\u001b[0;32m--> 547\u001b[0;31m     \u001b[0mainv\u001b[0m \u001b[0;34m=\u001b[0m \u001b[0m_umath_linalg\u001b[0m\u001b[0;34m.\u001b[0m\u001b[0minv\u001b[0m\u001b[0;34m(\u001b[0m\u001b[0ma\u001b[0m\u001b[0;34m,\u001b[0m \u001b[0msignature\u001b[0m\u001b[0;34m=\u001b[0m\u001b[0msignature\u001b[0m\u001b[0;34m,\u001b[0m \u001b[0mextobj\u001b[0m\u001b[0;34m=\u001b[0m\u001b[0mextobj\u001b[0m\u001b[0;34m)\u001b[0m\u001b[0;34m\u001b[0m\u001b[0;34m\u001b[0m\u001b[0m\n\u001b[0m\u001b[1;32m    548\u001b[0m     \u001b[0;32mreturn\u001b[0m \u001b[0mwrap\u001b[0m\u001b[0;34m(\u001b[0m\u001b[0mainv\u001b[0m\u001b[0;34m.\u001b[0m\u001b[0mastype\u001b[0m\u001b[0;34m(\u001b[0m\u001b[0mresult_t\u001b[0m\u001b[0;34m,\u001b[0m \u001b[0mcopy\u001b[0m\u001b[0;34m=\u001b[0m\u001b[0;32mFalse\u001b[0m\u001b[0;34m)\u001b[0m\u001b[0;34m)\u001b[0m\u001b[0;34m\u001b[0m\u001b[0;34m\u001b[0m\u001b[0m\n\u001b[1;32m    549\u001b[0m \u001b[0;34m\u001b[0m\u001b[0m\n",
            "\u001b[0;32m/usr/local/lib/python3.6/dist-packages/numpy/linalg/linalg.py\u001b[0m in \u001b[0;36m_raise_linalgerror_singular\u001b[0;34m(err, flag)\u001b[0m\n\u001b[1;32m     95\u001b[0m \u001b[0;34m\u001b[0m\u001b[0m\n\u001b[1;32m     96\u001b[0m \u001b[0;32mdef\u001b[0m \u001b[0m_raise_linalgerror_singular\u001b[0m\u001b[0;34m(\u001b[0m\u001b[0merr\u001b[0m\u001b[0;34m,\u001b[0m \u001b[0mflag\u001b[0m\u001b[0;34m)\u001b[0m\u001b[0;34m:\u001b[0m\u001b[0;34m\u001b[0m\u001b[0;34m\u001b[0m\u001b[0m\n\u001b[0;32m---> 97\u001b[0;31m     \u001b[0;32mraise\u001b[0m \u001b[0mLinAlgError\u001b[0m\u001b[0;34m(\u001b[0m\u001b[0;34m\"Singular matrix\"\u001b[0m\u001b[0;34m)\u001b[0m\u001b[0;34m\u001b[0m\u001b[0;34m\u001b[0m\u001b[0m\n\u001b[0m\u001b[1;32m     98\u001b[0m \u001b[0;34m\u001b[0m\u001b[0m\n\u001b[1;32m     99\u001b[0m \u001b[0;32mdef\u001b[0m \u001b[0m_raise_linalgerror_nonposdef\u001b[0m\u001b[0;34m(\u001b[0m\u001b[0merr\u001b[0m\u001b[0;34m,\u001b[0m \u001b[0mflag\u001b[0m\u001b[0;34m)\u001b[0m\u001b[0;34m:\u001b[0m\u001b[0;34m\u001b[0m\u001b[0;34m\u001b[0m\u001b[0m\n",
            "\u001b[0;31mLinAlgError\u001b[0m: Singular matrix"
          ]
        }
      ]
    },
    {
      "cell_type": "markdown",
      "metadata": {
        "id": "VA_F7_7kccpn"
      },
      "source": [
        "Porque não temos a inversa de a_numeros1?"
      ]
    },
    {
      "cell_type": "code",
      "metadata": {
        "id": "ANPBCnmVwOf4",
        "outputId": "5ce516ee-7a2e-46bb-d3a1-67b88c708bda",
        "colab": {
          "base_uri": "https://localhost:8080/",
          "height": 68
        }
      },
      "source": [
        "np.linalg.inv(a_numeros3)"
      ],
      "execution_count": null,
      "outputs": [
        {
          "output_type": "execute_result",
          "data": {
            "text/plain": [
              "array([[-1.48,  0.36,  0.88],\n",
              "       [ 0.56,  0.08, -0.36],\n",
              "       [ 0.16, -0.12,  0.04]])"
            ]
          },
          "metadata": {
            "tags": []
          },
          "execution_count": 84
        }
      ]
    },
    {
      "cell_type": "markdown",
      "metadata": {
        "id": "XAf9k1egxcdF"
      },
      "source": [
        "# **Resolver sistemas de equações lineares**\n",
        "> Considere o sistema de euqações lineares abaixo:\n",
        "\n",
        "\\begin{equation}\n",
        "x + 3y + 5z = 10\\\\\n",
        "2x+ 5y + z = 8 \\\\\n",
        "2x + 3y + 8z= 3\n",
        "\\end{equation}\n",
        "\n",
        "Ou $Ax = b$. A solução deste sistema de equações é dada por $A^{-1}b$."
      ]
    },
    {
      "cell_type": "markdown",
      "metadata": {
        "id": "oNf5nqaLxhBY"
      },
      "source": [
        "Ou seja, basta encontrarmos a inversa de A e multiplicarmos por b."
      ]
    },
    {
      "cell_type": "code",
      "metadata": {
        "id": "omzC5dGA0btc",
        "outputId": "4a1e6aac-f5c5-4683-cb6b-eb08e2173fe2",
        "colab": {
          "base_uri": "https://localhost:8080/",
          "height": 68
        }
      },
      "source": [
        "A= np.array([[1, 3, 5], [2, 5, 1], [2, 3, 8]])\n",
        "np.linalg.inv(A)"
      ],
      "execution_count": null,
      "outputs": [
        {
          "output_type": "execute_result",
          "data": {
            "text/plain": [
              "array([[-1.48,  0.36,  0.88],\n",
              "       [ 0.56,  0.08, -0.36],\n",
              "       [ 0.16, -0.12,  0.04]])"
            ]
          },
          "metadata": {
            "tags": []
          },
          "execution_count": 85
        }
      ]
    },
    {
      "cell_type": "markdown",
      "metadata": {
        "id": "AiXI3oxB05iE"
      },
      "source": [
        "Agora basta multiplicar a matriz inversa $A^{-1}$ acima por b. "
      ]
    },
    {
      "cell_type": "code",
      "metadata": {
        "id": "XoGebKDa2Fcd"
      },
      "source": [
        "A_Inv = np.linalg.inv(A)"
      ],
      "execution_count": null,
      "outputs": []
    },
    {
      "cell_type": "code",
      "metadata": {
        "id": "sKaP0a1QZG-P",
        "outputId": "97416266-a190-4ff7-e738-e4dca700db2c",
        "colab": {
          "base_uri": "https://localhost:8080/",
          "height": 68
        }
      },
      "source": [
        "b= np.array([10, 8, 3]).reshape(3, -1)\n",
        "b"
      ],
      "execution_count": null,
      "outputs": [
        {
          "output_type": "execute_result",
          "data": {
            "text/plain": [
              "array([[10],\n",
              "       [ 8],\n",
              "       [ 3]])"
            ]
          },
          "metadata": {
            "tags": []
          },
          "execution_count": 87
        }
      ]
    },
    {
      "cell_type": "code",
      "metadata": {
        "id": "3dAVq8dg19VI",
        "outputId": "77e7562a-885b-4095-82b7-4d89e6657f1d",
        "colab": {
          "base_uri": "https://localhost:8080/",
          "height": 68
        }
      },
      "source": [
        "A_Inv.dot(b)"
      ],
      "execution_count": null,
      "outputs": [
        {
          "output_type": "execute_result",
          "data": {
            "text/plain": [
              "array([[-9.28],\n",
              "       [ 5.16],\n",
              "       [ 0.76]])"
            ]
          },
          "metadata": {
            "tags": []
          },
          "execution_count": 88
        }
      ]
    },
    {
      "cell_type": "markdown",
      "metadata": {
        "id": "zso6hTnB17cm"
      },
      "source": [
        "Uma forma fácil de se fazer isso é utilizar a expressão abaixo:"
      ]
    },
    {
      "cell_type": "code",
      "metadata": {
        "id": "ptQHIVll1E4P",
        "outputId": "e681a20b-845d-49f3-bca9-60ac6ecf9d93",
        "colab": {
          "base_uri": "https://localhost:8080/",
          "height": 68
        }
      },
      "source": [
        "b= np.array([[10], [8], [3]])\n",
        "b"
      ],
      "execution_count": null,
      "outputs": [
        {
          "output_type": "execute_result",
          "data": {
            "text/plain": [
              "array([[10],\n",
              "       [ 8],\n",
              "       [ 3]])"
            ]
          },
          "metadata": {
            "tags": []
          },
          "execution_count": 89
        }
      ]
    },
    {
      "cell_type": "code",
      "metadata": {
        "id": "X4VL8lyY1Xus",
        "outputId": "fe80865a-e16b-4a62-fdb3-dbaddc10b003",
        "colab": {
          "base_uri": "https://localhost:8080/",
          "height": 68
        }
      },
      "source": [
        "np.linalg.solve(A, b)"
      ],
      "execution_count": null,
      "outputs": [
        {
          "output_type": "execute_result",
          "data": {
            "text/plain": [
              "array([[-9.28],\n",
              "       [ 5.16],\n",
              "       [ 0.76]])"
            ]
          },
          "metadata": {
            "tags": []
          },
          "execution_count": 90
        }
      ]
    },
    {
      "cell_type": "markdown",
      "metadata": {
        "id": "fJKmwTS59-Bc"
      },
      "source": [
        "# **Empilhar arrays**\n",
        "\n",
        "## Exemplo 1\n",
        "\n",
        "![Empilhar1](https://github.com/MathMachado/Materials/blob/master/Empilhar1.PNG?raw=true)\n",
        "\n",
        "## Exemplo 2\n",
        "\n",
        "![Empilhar2](https://github.com/MathMachado/Materials/blob/master/Empilhar2.PNG?raw=true)\n",
        "\n"
      ]
    },
    {
      "cell_type": "markdown",
      "metadata": {
        "id": "rhPTt3EwXden"
      },
      "source": [
        "## Gerar os arrays do exemplo1"
      ]
    },
    {
      "cell_type": "code",
      "metadata": {
        "id": "zEI-yBy3-E46"
      },
      "source": [
        "np.random.seed(20111974)\n",
        "a_numeros1 = np.random.randn(5, 8)\n",
        "\n",
        "np.random.seed(19741120)\n",
        "a_numeros2 = np.random.randn(8, 8)"
      ],
      "execution_count": null,
      "outputs": []
    },
    {
      "cell_type": "markdown",
      "metadata": {
        "id": "UYsAqBRp--79"
      },
      "source": [
        "## Método 1 - Concatenate([A, B])"
      ]
    },
    {
      "cell_type": "code",
      "metadata": {
        "id": "HgO1ujvhObyE",
        "outputId": "c40e7ed9-255b-4886-dddf-3b17f2b1be2f",
        "colab": {
          "base_uri": "https://localhost:8080/",
          "height": 187
        }
      },
      "source": [
        "a_numeros1"
      ],
      "execution_count": null,
      "outputs": [
        {
          "output_type": "execute_result",
          "data": {
            "text/plain": [
              "array([[ 2.5062768 ,  1.11440422,  2.05565501,  0.56482376,  0.29897276,\n",
              "         1.04930857, -0.12607366,  1.06227632],\n",
              "       [ 1.13807032,  1.37966044, -2.05995563,  0.67474814,  0.72722843,\n",
              "        -0.33923852,  0.43613107,  0.59135489],\n",
              "       [-1.29281877,  1.17712036, -0.98644163, -1.79034143, -1.08913605,\n",
              "        -0.90712825, -1.02291108, -1.36445713],\n",
              "       [-0.29429164,  0.06343709, -1.14196185, -0.50706079, -0.83539436,\n",
              "        -1.41492946, -0.2159062 , -1.16519474],\n",
              "       [-0.60767518, -0.61510925,  1.0771542 ,  0.5043687 ,  0.02674197,\n",
              "         1.83494644,  0.34728874, -1.14671885]])"
            ]
          },
          "metadata": {
            "tags": []
          },
          "execution_count": 33
        }
      ]
    },
    {
      "cell_type": "code",
      "metadata": {
        "id": "2aQY_klZOeg9",
        "outputId": "14eb3d9c-d0fc-4b6a-fe19-1790695c838f",
        "colab": {
          "base_uri": "https://localhost:8080/",
          "height": 289
        }
      },
      "source": [
        "a_numeros2"
      ],
      "execution_count": null,
      "outputs": [
        {
          "output_type": "execute_result",
          "data": {
            "text/plain": [
              "array([[-0.77337752, -1.10547465,  0.10062807, -1.14571729, -2.15266227,\n",
              "        -0.75255725, -2.1529949 , -0.33017773],\n",
              "       [-1.10465731,  0.32889675,  0.01010198, -1.33213633, -0.33945805,\n",
              "        -0.01299007,  0.05342823, -0.18641201],\n",
              "       [ 0.39473805, -0.89354231, -0.50667323, -0.74660913,  1.83586365,\n",
              "        -1.20536871,  1.20184886,  0.51160897],\n",
              "       [-0.56952286, -0.93343871, -0.24972528,  0.98487133,  1.19333367,\n",
              "         2.29956497,  0.16657022,  0.71357415],\n",
              "       [-0.45251078,  0.92163918,  0.73421263,  2.17811191, -0.05655212,\n",
              "         1.25326   , -0.37039248,  1.43855202],\n",
              "       [ 0.85646091, -0.11257239, -0.35400297,  0.94136671, -0.08696163,\n",
              "        -1.49000701,  0.00848666,  0.86705275],\n",
              "       [ 1.6340906 ,  1.36321063, -0.02175361, -0.45301645, -0.37111236,\n",
              "        -0.04716069, -2.27337435,  0.95318738],\n",
              "       [ 0.7100548 , -0.79883269, -0.3165779 , -1.58352824, -0.37751484,\n",
              "        -0.29760341, -0.73424207, -0.55703223]])"
            ]
          },
          "metadata": {
            "tags": []
          },
          "execution_count": 34
        }
      ]
    },
    {
      "cell_type": "code",
      "metadata": {
        "id": "bK70vaq8_KMH",
        "outputId": "f6d400cf-4b54-4990-815b-052f5224aadd",
        "colab": {
          "base_uri": "https://localhost:8080/",
          "height": 459
        }
      },
      "source": [
        "np.concatenate([a_numeros1, a_numeros2], axis = 0) # axis= 0 diz ao NumPy para empilhar as linhas"
      ],
      "execution_count": null,
      "outputs": [
        {
          "output_type": "execute_result",
          "data": {
            "text/plain": [
              "array([[ 2.5062768 ,  1.11440422,  2.05565501,  0.56482376,  0.29897276,\n",
              "         1.04930857, -0.12607366,  1.06227632],\n",
              "       [ 1.13807032,  1.37966044, -2.05995563,  0.67474814,  0.72722843,\n",
              "        -0.33923852,  0.43613107,  0.59135489],\n",
              "       [-1.29281877,  1.17712036, -0.98644163, -1.79034143, -1.08913605,\n",
              "        -0.90712825, -1.02291108, -1.36445713],\n",
              "       [-0.29429164,  0.06343709, -1.14196185, -0.50706079, -0.83539436,\n",
              "        -1.41492946, -0.2159062 , -1.16519474],\n",
              "       [-0.60767518, -0.61510925,  1.0771542 ,  0.5043687 ,  0.02674197,\n",
              "         1.83494644,  0.34728874, -1.14671885],\n",
              "       [-0.77337752, -1.10547465,  0.10062807, -1.14571729, -2.15266227,\n",
              "        -0.75255725, -2.1529949 , -0.33017773],\n",
              "       [-1.10465731,  0.32889675,  0.01010198, -1.33213633, -0.33945805,\n",
              "        -0.01299007,  0.05342823, -0.18641201],\n",
              "       [ 0.39473805, -0.89354231, -0.50667323, -0.74660913,  1.83586365,\n",
              "        -1.20536871,  1.20184886,  0.51160897],\n",
              "       [-0.56952286, -0.93343871, -0.24972528,  0.98487133,  1.19333367,\n",
              "         2.29956497,  0.16657022,  0.71357415],\n",
              "       [-0.45251078,  0.92163918,  0.73421263,  2.17811191, -0.05655212,\n",
              "         1.25326   , -0.37039248,  1.43855202],\n",
              "       [ 0.85646091, -0.11257239, -0.35400297,  0.94136671, -0.08696163,\n",
              "        -1.49000701,  0.00848666,  0.86705275],\n",
              "       [ 1.6340906 ,  1.36321063, -0.02175361, -0.45301645, -0.37111236,\n",
              "        -0.04716069, -2.27337435,  0.95318738],\n",
              "       [ 0.7100548 , -0.79883269, -0.3165779 , -1.58352824, -0.37751484,\n",
              "        -0.29760341, -0.73424207, -0.55703223]])"
            ]
          },
          "metadata": {
            "tags": []
          },
          "execution_count": 35
        }
      ]
    },
    {
      "cell_type": "markdown",
      "metadata": {
        "id": "CpaXBkm8_BF8"
      },
      "source": [
        "## Método 2 - np.r_[A, B]"
      ]
    },
    {
      "cell_type": "code",
      "metadata": {
        "id": "3QnVUzAY_teZ",
        "outputId": "e8adfd85-e760-40f5-d9ac-48353d24ccd2",
        "colab": {
          "base_uri": "https://localhost:8080/",
          "height": 459
        }
      },
      "source": [
        "np.r_[a_numeros1, a_numeros2]"
      ],
      "execution_count": null,
      "outputs": [
        {
          "output_type": "execute_result",
          "data": {
            "text/plain": [
              "array([[ 2.5062768 ,  1.11440422,  2.05565501,  0.56482376,  0.29897276,\n",
              "         1.04930857, -0.12607366,  1.06227632],\n",
              "       [ 1.13807032,  1.37966044, -2.05995563,  0.67474814,  0.72722843,\n",
              "        -0.33923852,  0.43613107,  0.59135489],\n",
              "       [-1.29281877,  1.17712036, -0.98644163, -1.79034143, -1.08913605,\n",
              "        -0.90712825, -1.02291108, -1.36445713],\n",
              "       [-0.29429164,  0.06343709, -1.14196185, -0.50706079, -0.83539436,\n",
              "        -1.41492946, -0.2159062 , -1.16519474],\n",
              "       [-0.60767518, -0.61510925,  1.0771542 ,  0.5043687 ,  0.02674197,\n",
              "         1.83494644,  0.34728874, -1.14671885],\n",
              "       [-0.77337752, -1.10547465,  0.10062807, -1.14571729, -2.15266227,\n",
              "        -0.75255725, -2.1529949 , -0.33017773],\n",
              "       [-1.10465731,  0.32889675,  0.01010198, -1.33213633, -0.33945805,\n",
              "        -0.01299007,  0.05342823, -0.18641201],\n",
              "       [ 0.39473805, -0.89354231, -0.50667323, -0.74660913,  1.83586365,\n",
              "        -1.20536871,  1.20184886,  0.51160897],\n",
              "       [-0.56952286, -0.93343871, -0.24972528,  0.98487133,  1.19333367,\n",
              "         2.29956497,  0.16657022,  0.71357415],\n",
              "       [-0.45251078,  0.92163918,  0.73421263,  2.17811191, -0.05655212,\n",
              "         1.25326   , -0.37039248,  1.43855202],\n",
              "       [ 0.85646091, -0.11257239, -0.35400297,  0.94136671, -0.08696163,\n",
              "        -1.49000701,  0.00848666,  0.86705275],\n",
              "       [ 1.6340906 ,  1.36321063, -0.02175361, -0.45301645, -0.37111236,\n",
              "        -0.04716069, -2.27337435,  0.95318738],\n",
              "       [ 0.7100548 , -0.79883269, -0.3165779 , -1.58352824, -0.37751484,\n",
              "        -0.29760341, -0.73424207, -0.55703223]])"
            ]
          },
          "metadata": {
            "tags": []
          },
          "execution_count": 36
        }
      ]
    },
    {
      "cell_type": "markdown",
      "metadata": {
        "id": "XmSPbDP6_20W"
      },
      "source": [
        "**Obs**.: Eu prefiro este método!"
      ]
    },
    {
      "cell_type": "markdown",
      "metadata": {
        "id": "dzVKW_wX_Dzw"
      },
      "source": [
        "## Método 3 - np.vstack([A, B]) = np.r_[A, B]"
      ]
    },
    {
      "cell_type": "code",
      "metadata": {
        "id": "uL7lEN_mABID",
        "outputId": "d1ea4d86-2cc1-4e2d-af72-b3a292ef15fd",
        "colab": {
          "base_uri": "https://localhost:8080/",
          "height": 459
        }
      },
      "source": [
        "np.vstack([a_numeros1, a_numeros2])"
      ],
      "execution_count": null,
      "outputs": [
        {
          "output_type": "execute_result",
          "data": {
            "text/plain": [
              "array([[ 2.5062768 ,  1.11440422,  2.05565501,  0.56482376,  0.29897276,\n",
              "         1.04930857, -0.12607366,  1.06227632],\n",
              "       [ 1.13807032,  1.37966044, -2.05995563,  0.67474814,  0.72722843,\n",
              "        -0.33923852,  0.43613107,  0.59135489],\n",
              "       [-1.29281877,  1.17712036, -0.98644163, -1.79034143, -1.08913605,\n",
              "        -0.90712825, -1.02291108, -1.36445713],\n",
              "       [-0.29429164,  0.06343709, -1.14196185, -0.50706079, -0.83539436,\n",
              "        -1.41492946, -0.2159062 , -1.16519474],\n",
              "       [-0.60767518, -0.61510925,  1.0771542 ,  0.5043687 ,  0.02674197,\n",
              "         1.83494644,  0.34728874, -1.14671885],\n",
              "       [-0.77337752, -1.10547465,  0.10062807, -1.14571729, -2.15266227,\n",
              "        -0.75255725, -2.1529949 , -0.33017773],\n",
              "       [-1.10465731,  0.32889675,  0.01010198, -1.33213633, -0.33945805,\n",
              "        -0.01299007,  0.05342823, -0.18641201],\n",
              "       [ 0.39473805, -0.89354231, -0.50667323, -0.74660913,  1.83586365,\n",
              "        -1.20536871,  1.20184886,  0.51160897],\n",
              "       [-0.56952286, -0.93343871, -0.24972528,  0.98487133,  1.19333367,\n",
              "         2.29956497,  0.16657022,  0.71357415],\n",
              "       [-0.45251078,  0.92163918,  0.73421263,  2.17811191, -0.05655212,\n",
              "         1.25326   , -0.37039248,  1.43855202],\n",
              "       [ 0.85646091, -0.11257239, -0.35400297,  0.94136671, -0.08696163,\n",
              "        -1.49000701,  0.00848666,  0.86705275],\n",
              "       [ 1.6340906 ,  1.36321063, -0.02175361, -0.45301645, -0.37111236,\n",
              "        -0.04716069, -2.27337435,  0.95318738],\n",
              "       [ 0.7100548 , -0.79883269, -0.3165779 , -1.58352824, -0.37751484,\n",
              "        -0.29760341, -0.73424207, -0.55703223]])"
            ]
          },
          "metadata": {
            "tags": []
          },
          "execution_count": 37
        }
      ]
    },
    {
      "cell_type": "markdown",
      "metadata": {
        "id": "68icJ-2ZAdRj"
      },
      "source": [
        "# Concatenar arrays\n",
        "\n",
        "## Exemplo 1\n",
        "\n",
        "![Concatenar1](https://github.com/MathMachado/Materials/blob/master/Concatenar1.PNG?raw=true)\n",
        "\n",
        "# Exemplo 2\n",
        "\n",
        "![Concatenar2](https://github.com/MathMachado/Materials/blob/master/Concatenar2.PNG?raw=true)"
      ]
    },
    {
      "cell_type": "markdown",
      "metadata": {
        "id": "OplgK9YoQi9o"
      },
      "source": [
        "## Concatenar os elementos de dois arrays - np.c_[A, B]"
      ]
    },
    {
      "cell_type": "code",
      "metadata": {
        "id": "lpdsbTEKQ9EY"
      },
      "source": [
        "np.random.seed(20111974)\n",
        "a_numeros1 = np.random.randint(0, 10, 100).reshape(-1, 10)\n",
        "a_numeros2 = np.random.randint(0, 2, 10).reshape(-1, 1)"
      ],
      "execution_count": null,
      "outputs": []
    },
    {
      "cell_type": "code",
      "metadata": {
        "id": "JPxhGsaSSMk2",
        "outputId": "fe961264-2dec-44ed-edfd-47f1642b6fd8",
        "colab": {
          "base_uri": "https://localhost:8080/",
          "height": 187
        }
      },
      "source": [
        "a_numeros1"
      ],
      "execution_count": null,
      "outputs": [
        {
          "output_type": "execute_result",
          "data": {
            "text/plain": [
              "array([[8, 8, 2, 8, 9, 1, 8, 0, 4, 2],\n",
              "       [0, 8, 9, 3, 7, 1, 3, 2, 9, 7],\n",
              "       [7, 9, 5, 6, 8, 7, 0, 9, 3, 9],\n",
              "       [3, 1, 8, 6, 3, 5, 4, 1, 2, 9],\n",
              "       [8, 6, 6, 1, 0, 9, 2, 0, 7, 5],\n",
              "       [5, 4, 4, 2, 7, 2, 7, 9, 3, 1],\n",
              "       [5, 0, 1, 2, 3, 8, 7, 5, 4, 0],\n",
              "       [5, 9, 6, 6, 1, 3, 6, 0, 4, 9],\n",
              "       [2, 1, 0, 9, 1, 4, 2, 9, 7, 9],\n",
              "       [5, 3, 7, 6, 3, 9, 8, 4, 3, 0]])"
            ]
          },
          "metadata": {
            "tags": []
          },
          "execution_count": 92
        }
      ]
    },
    {
      "cell_type": "code",
      "metadata": {
        "id": "9ZyUPfybTfej",
        "outputId": "54e58428-c9df-443c-9959-fcbaf46a7b8e",
        "colab": {
          "base_uri": "https://localhost:8080/",
          "height": 187
        }
      },
      "source": [
        "a_numeros2"
      ],
      "execution_count": null,
      "outputs": [
        {
          "output_type": "execute_result",
          "data": {
            "text/plain": [
              "array([[1],\n",
              "       [0],\n",
              "       [0],\n",
              "       [0],\n",
              "       [0],\n",
              "       [1],\n",
              "       [0],\n",
              "       [0],\n",
              "       [0],\n",
              "       [1]])"
            ]
          },
          "metadata": {
            "tags": []
          },
          "execution_count": 93
        }
      ]
    },
    {
      "cell_type": "code",
      "metadata": {
        "id": "nS1cPG3aRug1",
        "outputId": "d896239e-39ea-4b4c-c470-9c1f77d77527",
        "colab": {
          "base_uri": "https://localhost:8080/",
          "height": 187
        }
      },
      "source": [
        "# colocando o array a_numeros2 do lado de a_numeros1.\n",
        "np.c_[a_numeros1, a_numeros2]"
      ],
      "execution_count": null,
      "outputs": [
        {
          "output_type": "execute_result",
          "data": {
            "text/plain": [
              "array([[8, 8, 2, 8, 9, 1, 8, 0, 4, 2, 1],\n",
              "       [0, 8, 9, 3, 7, 1, 3, 2, 9, 7, 0],\n",
              "       [7, 9, 5, 6, 8, 7, 0, 9, 3, 9, 0],\n",
              "       [3, 1, 8, 6, 3, 5, 4, 1, 2, 9, 0],\n",
              "       [8, 6, 6, 1, 0, 9, 2, 0, 7, 5, 0],\n",
              "       [5, 4, 4, 2, 7, 2, 7, 9, 3, 1, 1],\n",
              "       [5, 0, 1, 2, 3, 8, 7, 5, 4, 0, 0],\n",
              "       [5, 9, 6, 6, 1, 3, 6, 0, 4, 9, 0],\n",
              "       [2, 1, 0, 9, 1, 4, 2, 9, 7, 9, 0],\n",
              "       [5, 3, 7, 6, 3, 9, 8, 4, 3, 0, 1]])"
            ]
          },
          "metadata": {
            "tags": []
          },
          "execution_count": 94
        }
      ]
    },
    {
      "cell_type": "markdown",
      "metadata": {
        "id": "kIgU1YBw0OeM"
      },
      "source": [
        "___\n",
        "# **Selecionar itens que satisfazem condições**\n",
        "> Considere o array a seguir:"
      ]
    },
    {
      "cell_type": "code",
      "metadata": {
        "id": "e2pL5anBV0DI",
        "outputId": "596a082d-a6df-476c-fc6f-6ef70ec29e6a",
        "colab": {
          "base_uri": "https://localhost:8080/",
          "height": 34
        }
      },
      "source": [
        "a_numeros1 = np.arange(10, 0, -1)\n",
        "a_numeros1"
      ],
      "execution_count": null,
      "outputs": [
        {
          "output_type": "execute_result",
          "data": {
            "text/plain": [
              "array([10,  9,  8,  7,  6,  5,  4,  3,  2,  1])"
            ]
          },
          "metadata": {
            "tags": []
          },
          "execution_count": 95
        }
      ]
    },
    {
      "cell_type": "markdown",
      "metadata": {
        "id": "i9HuZZAfV302"
      },
      "source": [
        "Selecionar somente os itens > 7:"
      ]
    },
    {
      "cell_type": "markdown",
      "metadata": {
        "id": "ZCESvr7iXMkV"
      },
      "source": [
        "## Usando np.where()"
      ]
    },
    {
      "cell_type": "code",
      "metadata": {
        "id": "BdrAQLHkTS-v",
        "outputId": "833301d4-463f-4b64-bf55-4df78a1ccbf8",
        "colab": {
          "base_uri": "https://localhost:8080/",
          "height": 34
        }
      },
      "source": [
        "a_numeros1"
      ],
      "execution_count": null,
      "outputs": [
        {
          "output_type": "execute_result",
          "data": {
            "text/plain": [
              "array([10,  9,  8,  7,  6,  5,  4,  3,  2,  1])"
            ]
          },
          "metadata": {
            "tags": []
          },
          "execution_count": 96
        }
      ]
    },
    {
      "cell_type": "code",
      "metadata": {
        "id": "O_ZBaWxfWA9o",
        "outputId": "59ab8174-6bee-41a9-ba48-b56a1c1f7588",
        "colab": {
          "base_uri": "https://localhost:8080/",
          "height": 34
        }
      },
      "source": [
        "# Índices do array que atendem a condição\n",
        "l_indices = np.where(a_numeros1 > 7)\n",
        "l_indices"
      ],
      "execution_count": null,
      "outputs": [
        {
          "output_type": "execute_result",
          "data": {
            "text/plain": [
              "(array([0, 1, 2]),)"
            ]
          },
          "metadata": {
            "tags": []
          },
          "execution_count": 97
        }
      ]
    },
    {
      "cell_type": "markdown",
      "metadata": {
        "id": "EdWlfPOZWPME"
      },
      "source": [
        "**Atenção**: Capturamos os índices. Para selecionar os itens, basta fazer:"
      ]
    },
    {
      "cell_type": "code",
      "metadata": {
        "id": "tOxs3iYQWWxu",
        "outputId": "04d776c7-d395-4f93-d0f1-4a27e9caffb4",
        "colab": {
          "base_uri": "https://localhost:8080/",
          "height": 34
        }
      },
      "source": [
        "a_numeros2 = a_numeros1[l_indices]\n",
        "a_numeros2"
      ],
      "execution_count": null,
      "outputs": [
        {
          "output_type": "execute_result",
          "data": {
            "text/plain": [
              "array([10,  9,  8])"
            ]
          },
          "metadata": {
            "tags": []
          },
          "execution_count": 98
        }
      ]
    },
    {
      "cell_type": "markdown",
      "metadata": {
        "id": "PGsENqkaXRjh"
      },
      "source": [
        "## Alternativa: Usando []"
      ]
    },
    {
      "cell_type": "code",
      "metadata": {
        "id": "YbdRNk1WXTLT",
        "outputId": "997490b3-0bb0-4d85-bbfe-7b36021c0d92",
        "colab": {
          "base_uri": "https://localhost:8080/",
          "height": 34
        }
      },
      "source": [
        "a_numeros1[a_numeros1 > 7]"
      ],
      "execution_count": null,
      "outputs": [
        {
          "output_type": "execute_result",
          "data": {
            "text/plain": [
              "array([10,  9,  8])"
            ]
          },
          "metadata": {
            "tags": []
          },
          "execution_count": 99
        }
      ]
    },
    {
      "cell_type": "markdown",
      "metadata": {
        "id": "jijpzFxcSQC8"
      },
      "source": [
        "Acho que vale a pena quebrar esta solução para entendermos melhor como as coisas funcionam:#"
      ]
    },
    {
      "cell_type": "code",
      "metadata": {
        "id": "rujhP2LQSWsq"
      },
      "source": [
        " # Primeiro, avalie o resultado de a_numeros1 > 7:"
      ],
      "execution_count": null,
      "outputs": []
    },
    {
      "cell_type": "code",
      "metadata": {
        "id": "FYZaBsasSb3N",
        "outputId": "98cc8d7e-e52d-48d0-82db-cdd384112d30",
        "colab": {
          "base_uri": "https://localhost:8080/",
          "height": 51
        }
      },
      "source": [
        "a_numeros1 > 7"
      ],
      "execution_count": null,
      "outputs": [
        {
          "output_type": "execute_result",
          "data": {
            "text/plain": [
              "array([ True,  True,  True, False, False, False, False, False, False,\n",
              "       False])"
            ]
          },
          "metadata": {
            "tags": []
          },
          "execution_count": 101
        }
      ]
    },
    {
      "cell_type": "code",
      "metadata": {
        "id": "mvEof-UKaaVG",
        "outputId": "0d7a4ee5-8ab1-4450-9d52-915920a8a496",
        "colab": {
          "base_uri": "https://localhost:8080/",
          "height": 34
        }
      },
      "source": [
        "a_numeros1[a_numeros1 > 7]"
      ],
      "execution_count": null,
      "outputs": [
        {
          "output_type": "execute_result",
          "data": {
            "text/plain": [
              "array([10,  9,  8])"
            ]
          },
          "metadata": {
            "tags": []
          },
          "execution_count": 102
        }
      ]
    },
    {
      "cell_type": "code",
      "metadata": {
        "id": "nO4FiBmDUZOT",
        "outputId": "0c76a2fc-41e0-432a-fc89-0d899c783bc8",
        "colab": {
          "base_uri": "https://localhost:8080/",
          "height": 34
        }
      },
      "source": [
        "a_numeros1"
      ],
      "execution_count": null,
      "outputs": [
        {
          "output_type": "execute_result",
          "data": {
            "text/plain": [
              "array([10,  9,  8,  7,  6,  5,  4,  3,  2,  1])"
            ]
          },
          "metadata": {
            "tags": []
          },
          "execution_count": 103
        }
      ]
    },
    {
      "cell_type": "markdown",
      "metadata": {
        "id": "Ci5lT9nmSfsX"
      },
      "source": [
        "Agora, com este resultado, fica fácil entender como o Python seleciona os elementos. Consegue explicar?"
      ]
    },
    {
      "cell_type": "markdown",
      "metadata": {
        "id": "1v5Lfin0GGKD"
      },
      "source": [
        "# Substituir itens baseado em condições\n",
        "> Substituir os valores negativos do array abaixo por 0."
      ]
    },
    {
      "cell_type": "markdown",
      "metadata": {
        "id": "CLY_u0ePWdN7"
      },
      "source": [
        "## Gerar o exemplo"
      ]
    },
    {
      "cell_type": "code",
      "metadata": {
        "id": "NUANFy-fNXf5",
        "outputId": "f4b32ae9-9747-4a6b-aa73-42462078e5e7",
        "colab": {
          "base_uri": "https://localhost:8080/",
          "height": 119
        }
      },
      "source": [
        "np.random.seed(20111974)\n",
        "a_numeros1 = np.array(np.random.randint(0, 10, size = 100))\n",
        "\n",
        "# Lista aleatória de índices que vou alterar\n",
        "np.random.seed(20111974)\n",
        "l_indices= np.random.randint(0, 99, 9)\n",
        "\n",
        "for i in l_indices:\n",
        "    a_numeros1[i] = -1*a_numeros1[i]\n",
        "\n",
        "a_numeros2 = a_numeros1.copy()\n",
        "a_numeros2"
      ],
      "execution_count": null,
      "outputs": [
        {
          "output_type": "execute_result",
          "data": {
            "text/plain": [
              "array([ 8,  8, -2,  8,  9,  1,  8,  0, -4,  2,  0,  8,  9,  3,  7,  1,  3,\n",
              "        2,  9,  7,  7,  9,  5,  6,  8,  7,  0, -9,  3,  9,  3,  1,  8,  6,\n",
              "        3,  5,  4,  1,  2,  9, -8,  6, -6,  1,  0,  9, -2,  0,  7,  5,  5,\n",
              "        4,  4,  2,  7,  2,  7,  9,  3,  1, -5,  0,  1,  2,  3,  8,  7,  5,\n",
              "        4,  0,  5,  9,  6,  6,  1,  3,  6,  0,  4,  9,  2, -1,  0,  9,  1,\n",
              "        4,  2,  9, -7,  9,  5,  3,  7,  6,  3,  9,  8,  4,  3,  0])"
            ]
          },
          "metadata": {
            "tags": []
          },
          "execution_count": 118
        }
      ]
    },
    {
      "cell_type": "code",
      "metadata": {
        "id": "dWVyI40uN2d2",
        "outputId": "b78b4a28-c305-42d0-d328-4c064555f028",
        "colab": {
          "base_uri": "https://localhost:8080/",
          "height": 34
        }
      },
      "source": [
        "# Indices a serem multiplicados por -1:\n",
        "l_indices"
      ],
      "execution_count": null,
      "outputs": [
        {
          "output_type": "execute_result",
          "data": {
            "text/plain": [
              "array([60, 42, 40,  8, 27,  2, 46, 88, 81])"
            ]
          },
          "metadata": {
            "tags": []
          },
          "execution_count": 105
        }
      ]
    },
    {
      "cell_type": "markdown",
      "metadata": {
        "id": "3Whuu854OJDZ"
      },
      "source": [
        "## Substituir os valores negativos por 0"
      ]
    },
    {
      "cell_type": "code",
      "metadata": {
        "id": "sr268Rp8b-Se",
        "outputId": "09321479-2d45-494d-e7c6-17f77710b1d2",
        "colab": {
          "base_uri": "https://localhost:8080/",
          "height": 221
        }
      },
      "source": [
        "a_numeros2 < 0"
      ],
      "execution_count": null,
      "outputs": [
        {
          "output_type": "execute_result",
          "data": {
            "text/plain": [
              "array([False, False,  True, False, False, False, False, False,  True,\n",
              "       False, False, False, False, False, False, False, False, False,\n",
              "       False, False, False, False, False, False, False, False, False,\n",
              "        True, False, False, False, False, False, False, False, False,\n",
              "       False, False, False, False,  True, False,  True, False, False,\n",
              "       False,  True, False, False, False, False, False, False, False,\n",
              "       False, False, False, False, False, False,  True, False, False,\n",
              "       False, False, False, False, False, False, False, False, False,\n",
              "       False, False, False, False, False, False, False, False, False,\n",
              "        True, False, False, False, False, False, False,  True, False,\n",
              "       False, False, False, False, False, False, False, False, False,\n",
              "       False])"
            ]
          },
          "metadata": {
            "tags": []
          },
          "execution_count": 119
        }
      ]
    },
    {
      "cell_type": "code",
      "metadata": {
        "id": "C-eKqPrfOQF6",
        "outputId": "eeaeeacf-637b-4d1f-be97-573a1c229194",
        "colab": {
          "base_uri": "https://localhost:8080/",
          "height": 102
        }
      },
      "source": [
        "a_numeros2[a_numeros2 < 0] = 0\n",
        "a_numeros2"
      ],
      "execution_count": null,
      "outputs": [
        {
          "output_type": "execute_result",
          "data": {
            "text/plain": [
              "array([8, 8, 0, 8, 9, 1, 8, 0, 0, 2, 0, 8, 9, 3, 7, 1, 3, 2, 9, 7, 7, 9,\n",
              "       5, 6, 8, 7, 0, 0, 3, 9, 3, 1, 8, 6, 3, 5, 4, 1, 2, 9, 0, 6, 0, 1,\n",
              "       0, 9, 0, 0, 7, 5, 5, 4, 4, 2, 7, 2, 7, 9, 3, 1, 0, 0, 1, 2, 3, 8,\n",
              "       7, 5, 4, 0, 5, 9, 6, 6, 1, 3, 6, 0, 4, 9, 2, 0, 0, 9, 1, 4, 2, 9,\n",
              "       0, 9, 5, 3, 7, 6, 3, 9, 8, 4, 3, 0])"
            ]
          },
          "metadata": {
            "tags": []
          },
          "execution_count": 120
        }
      ]
    },
    {
      "cell_type": "markdown",
      "metadata": {
        "id": "eDLM0_JSZlfB"
      },
      "source": [
        "Observe acima que os valores negativos foram substituídos por 0, como queríamos."
      ]
    },
    {
      "cell_type": "markdown",
      "metadata": {
        "id": "AEHJ0rA3dHHU"
      },
      "source": [
        "## Substituir os valores negativos por 0 e os positivos por 1"
      ]
    },
    {
      "cell_type": "code",
      "metadata": {
        "id": "y32J8SRNZwRF",
        "outputId": "6cabccb6-d15c-4020-9107-df5e0ff8e4f3",
        "colab": {
          "base_uri": "https://localhost:8080/",
          "height": 119
        }
      },
      "source": [
        "a_numeros2 = a_numeros1.copy()\n",
        "a_numeros2"
      ],
      "execution_count": null,
      "outputs": [
        {
          "output_type": "execute_result",
          "data": {
            "text/plain": [
              "array([ 8,  8, -2,  8,  9,  1,  8,  0, -4,  2,  0,  8,  9,  3,  7,  1,  3,\n",
              "        2,  9,  7,  7,  9,  5,  6,  8,  7,  0, -9,  3,  9,  3,  1,  8,  6,\n",
              "        3,  5,  4,  1,  2,  9, -8,  6, -6,  1,  0,  9, -2,  0,  7,  5,  5,\n",
              "        4,  4,  2,  7,  2,  7,  9,  3,  1, -5,  0,  1,  2,  3,  8,  7,  5,\n",
              "        4,  0,  5,  9,  6,  6,  1,  3,  6,  0,  4,  9,  2, -1,  0,  9,  1,\n",
              "        4,  2,  9, -7,  9,  5,  3,  7,  6,  3,  9,  8,  4,  3,  0])"
            ]
          },
          "metadata": {
            "tags": []
          },
          "execution_count": 121
        }
      ]
    },
    {
      "cell_type": "code",
      "metadata": {
        "id": "1bSD9Fs6P5wW",
        "outputId": "6428fffe-0b5b-4489-819e-6798ae6521fb",
        "colab": {
          "base_uri": "https://localhost:8080/",
          "height": 102
        }
      },
      "source": [
        "a_numeros2 = np.where(a_numeros2 <= 0, 0, 1)\n",
        "a_numeros2"
      ],
      "execution_count": null,
      "outputs": [
        {
          "output_type": "execute_result",
          "data": {
            "text/plain": [
              "array([1, 1, 0, 1, 1, 1, 1, 0, 0, 1, 0, 1, 1, 1, 1, 1, 1, 1, 1, 1, 1, 1,\n",
              "       1, 1, 1, 1, 0, 0, 1, 1, 1, 1, 1, 1, 1, 1, 1, 1, 1, 1, 0, 1, 0, 1,\n",
              "       0, 1, 0, 0, 1, 1, 1, 1, 1, 1, 1, 1, 1, 1, 1, 1, 0, 0, 1, 1, 1, 1,\n",
              "       1, 1, 1, 0, 1, 1, 1, 1, 1, 1, 1, 0, 1, 1, 1, 0, 0, 1, 1, 1, 1, 1,\n",
              "       0, 1, 1, 1, 1, 1, 1, 1, 1, 1, 1, 0])"
            ]
          },
          "metadata": {
            "tags": []
          },
          "execution_count": 122
        }
      ]
    },
    {
      "cell_type": "markdown",
      "metadata": {
        "id": "i027scjl0qkm"
      },
      "source": [
        "___\n",
        "# Outliers\n",
        "> Qualquer ponto/observação que é incomum quando comparado com todos os outros pontos/observações."
      ]
    },
    {
      "cell_type": "markdown",
      "metadata": {
        "id": "UnDTqRnZHQ3W"
      },
      "source": [
        "## Z-Score\n",
        "\n",
        "* Z-Score pode ser utilizado para detectar Outliers.\n",
        "* É a diferença entre o valor e a média da amostra expressa como o número de desvios-padrão. \n",
        "* Se o escore z for menor que 2,5 ou maior que 2,5, o valor estará nos 5% do menor ou maior valor (2,5% dos valores em ambas as extremidades da distribuição). No entanto, é pratica comum utilizarmos 3 ao invés dos 2,5.\n",
        "\n",
        "![Z_Score](https://github.com/MathMachado/Materials/blob/master/Z_Score.png?raw=true)"
      ]
    },
    {
      "cell_type": "markdown",
      "metadata": {
        "id": "N7gb2zhtd0uM"
      },
      "source": [
        "## IQR Score\n",
        "\n",
        "* O Intervalo interquartil (IQR) é uma medida de dispersão estatística, sendo igual à diferença entre os percentis 75 (Q3) e 25 (Q1), ou entre quartis superiores e inferiores, IQR = Q3 - Q1."
      ]
    },
    {
      "cell_type": "markdown",
      "metadata": {
        "id": "lMmWOKNvghI7"
      },
      "source": [
        "![BoxPlot](https://github.com/MathMachado/Materials/blob/master/boxplot.png?raw=true)"
      ]
    },
    {
      "cell_type": "markdown",
      "metadata": {
        "id": "z3VZdU8rICZA"
      },
      "source": [
        "## Desafio\n",
        "> Substituir os outliers do array por:\n",
        "1. Q1-1.5\\*(Q3 - Q1), se ponto < Q1-1.5\\*IQR\n",
        "2. Q3+1.5\\*(Q3 - Q1), se ponto > Q3+1.5\\*IQR"
      ]
    },
    {
      "cell_type": "markdown",
      "metadata": {
        "id": "DUw_a-MjWvBc"
      },
      "source": [
        "### Desafio para resolverem\n",
        "> **Objetivo**: Simular aleatoriamente o salário de 1.000 pessoas com distribuição N(1.045; 100). \n",
        "* Identificar os _outliers_ da distribuição que acabamos de simular;\n",
        "* Qual a média da distribuição que simulamos?\n",
        "* Qual o desvio-padrão;\n",
        "* Plotar o Boxplot da distribuição dos dados;\n",
        "* Quantas pessoas > Q3 + 1.5*(Q3-Q1)\n",
        "\n",
        "Obs.: Use np.random.seed(20111974)."
      ]
    },
    {
      "cell_type": "markdown",
      "metadata": {
        "id": "GYGYDh2OYQd9"
      },
      "source": [
        "## Resolução do Desafio"
      ]
    },
    {
      "cell_type": "code",
      "metadata": {
        "id": "m_ckxJR0aKy2",
        "outputId": "3caa1640-5f3f-4521-c945-9c2ecbf5a5df",
        "colab": {
          "base_uri": "https://localhost:8080/",
          "height": 102
        }
      },
      "source": [
        "# resolução desafio\n",
        "import numpy as np\n",
        "np.set_printoptions(precision = 2, suppress = True)\n",
        "#especificando a semente para fins de comparabilidade:\n",
        "np.random.seed(20111974)\n",
        "\n",
        "# gerando o array de salários -> 1.000 pessoas com distribuição N(1.045; 100)\n",
        "i_med = 1045\n",
        "f_desv = 100\n",
        "i_tam = 1000\n",
        "a_salarios = np.array(np.random.normal(i_med, f_desv, size=i_tam))\n",
        "a_salarios[0:35]"
      ],
      "execution_count": null,
      "outputs": [
        {
          "output_type": "execute_result",
          "data": {
            "text/plain": [
              "array([1295.63, 1156.44, 1250.57, 1101.48, 1074.9 , 1149.93, 1032.39,\n",
              "       1151.23, 1158.81, 1182.97,  839.  , 1112.47, 1117.72, 1011.08,\n",
              "       1088.61, 1104.14,  915.72, 1162.71,  946.36,  865.97,  936.09,\n",
              "        954.29,  942.71,  908.55, 1015.57, 1051.34,  930.8 ,  994.29,\n",
              "        961.46,  903.51, 1023.41,  928.48,  984.23,  983.49, 1152.72])"
            ]
          },
          "metadata": {
            "tags": []
          },
          "execution_count": 2
        }
      ]
    },
    {
      "cell_type": "code",
      "metadata": {
        "id": "FRVH4mSrcvU3",
        "outputId": "d173f7b2-307e-46b7-d90a-281d0ab3cbc8",
        "colab": {
          "base_uri": "https://localhost:8080/",
          "height": 35
        }
      },
      "source": [
        "# calculo da média e desvio padrão:\n",
        "media = np.mean(a_salarios)\n",
        "desvio = np.std(a_salarios)\n",
        "f'A média da distribuição é: {media} e o desvio padrão é: {desvio}'"
      ],
      "execution_count": null,
      "outputs": [
        {
          "output_type": "execute_result",
          "data": {
            "application/vnd.google.colaboratory.intrinsic+json": {
              "type": "string"
            },
            "text/plain": [
              "'A média da distribuição é: 1047.150212238584 e o desvio padrão é: 101.18708333868835'"
            ]
          },
          "metadata": {
            "tags": []
          },
          "execution_count": 3
        }
      ]
    },
    {
      "cell_type": "code",
      "metadata": {
        "id": "gyJ1hH5GMJVJ",
        "outputId": "d613d4ef-647f-47d3-a9ae-4ebdc72c2b54",
        "colab": {
          "base_uri": "https://localhost:8080/",
          "height": 35
        }
      },
      "source": [
        "# identificação minimo, Q1, mediana, Q3 e Maximo\n",
        "f_min = np.min(a_salarios) #valor minimo da distribuição\n",
        "f_max = np.max(a_salarios) #valor máximo da distribuição\n",
        "Q1,f_med,Q3 = np.percentile(a_salarios, q=[25,50,75]) #quartil 1, mediana e quartil 3 da distribuição\n",
        "\n",
        "f'Minimo: {f_min}, Q1: {Q1}, Mediana: {f_med}, Q3: {Q3}, Máximo: {f_max}'"
      ],
      "execution_count": null,
      "outputs": [
        {
          "output_type": "execute_result",
          "data": {
            "application/vnd.google.colaboratory.intrinsic+json": {
              "type": "string"
            },
            "text/plain": [
              "'Minimo: 722.3271691606881, Q1: 973.3240027196935, Mediana: 1047.631166829137, Q3: 1117.6985191828794, Máximo: 1389.1056423274867'"
            ]
          },
          "metadata": {
            "tags": []
          },
          "execution_count": 4
        }
      ]
    },
    {
      "cell_type": "code",
      "metadata": {
        "id": "-mAwDnwedcjM",
        "outputId": "c0add352-a4fa-4761-e000-eb3572de335f",
        "colab": {
          "base_uri": "https://localhost:8080/",
          "height": 269
        }
      },
      "source": [
        "# plotar Boxplot:\n",
        "import seaborn as sns\n",
        "sns.boxplot(y = a_salarios)"
      ],
      "execution_count": null,
      "outputs": [
        {
          "output_type": "execute_result",
          "data": {
            "text/plain": [
              "<matplotlib.axes._subplots.AxesSubplot at 0x7ff52c6cb630>"
            ]
          },
          "metadata": {
            "tags": []
          },
          "execution_count": 5
        },
        {
          "output_type": "display_data",
          "data": {
            "image/png": "[encoded data removed]",
            "text/plain": [
              "<Figure size 432x288 with 1 Axes>"
            ]
          },
          "metadata": {
            "tags": [],
            "needs_background": "light"
          }
        }
      ]
    },
    {
      "cell_type": "code",
      "metadata": {
        "id": "nGw-_YBL4u-V",
        "outputId": "1208ad5d-9279-4814-e693-6e6068d1b81c",
        "colab": {
          "base_uri": "https://localhost:8080/",
          "height": 35
        }
      },
      "source": [
        "# Identificar os outliers da distribuição:\n",
        "#amplitude interquartilica\n",
        "aiq = Q3 - Q1\n",
        "# Limites \n",
        "lim_inf = Q1 - 1.5 * aiq\n",
        "lim_sup = Q3 + 1.5 * aiq\n",
        "f'São considerados outliers, por este método, salários menores que {lim_inf} ou maiores que {lim_sup}'"
      ],
      "execution_count": null,
      "outputs": [
        {
          "output_type": "execute_result",
          "data": {
            "application/vnd.google.colaboratory.intrinsic+json": {
              "type": "string"
            },
            "text/plain": [
              "'São considerados outliers, por este método, salários menores que 756.7622280249145 ou maiores que 1334.2602938776583'"
            ]
          },
          "metadata": {
            "tags": []
          },
          "execution_count": 7
        }
      ]
    },
    {
      "cell_type": "code",
      "metadata": {
        "id": "-gyBY_IOAe2L",
        "outputId": "8b89c733-8a53-4db0-e90f-78a62e1bfa9b",
        "colab": {
          "base_uri": "https://localhost:8080/",
          "height": 35
        }
      },
      "source": [
        "# Relação de outliers:\n",
        "out_1 = a_salarios[a_salarios < lim_inf]\n",
        "out_2 = a_salarios[a_salarios > lim_sup]\n",
        "f'Relação de outliers: {[out_1,out_2]}'"
      ],
      "execution_count": null,
      "outputs": [
        {
          "output_type": "execute_result",
          "data": {
            "application/vnd.google.colaboratory.intrinsic+json": {
              "type": "string"
            },
            "text/plain": [
              "'Relação de outliers: [array([722.33, 725.77]), array([1360.09, 1389.11])]'"
            ]
          },
          "metadata": {
            "tags": []
          },
          "execution_count": 8
        }
      ]
    },
    {
      "cell_type": "code",
      "metadata": {
        "id": "h1h1ikOerXKA"
      },
      "source": [
        "# tratamento dos outliers:\n",
        "# cria cópia do array original\n",
        "a_sal_copia = a_salarios.copy() \n",
        "# substitui outliers \"inferiores\" pelo valor do limite inferior\n",
        "a_sal_copia[a_sal_copia < lim_inf] = lim_inf \n",
        "# substitui outliers \"superiores\" pelo valor do limite superior\n",
        "a_sal_copia[a_sal_copia > lim_sup] = lim_sup "
      ],
      "execution_count": null,
      "outputs": []
    },
    {
      "cell_type": "code",
      "metadata": {
        "id": "xJHTTzT0rW4o",
        "outputId": "9cb4438c-cf9e-4db8-9873-a0186e93c83d",
        "colab": {
          "base_uri": "https://localhost:8080/",
          "height": 269
        }
      },
      "source": [
        "# boxplot da \"nova\" distribuição para verificar se ainda existem outliers:\n",
        "sns.boxplot(y = a_sal_copia)"
      ],
      "execution_count": null,
      "outputs": [
        {
          "output_type": "execute_result",
          "data": {
            "text/plain": [
              "<matplotlib.axes._subplots.AxesSubplot at 0x7ff52a6c1a58>"
            ]
          },
          "metadata": {
            "tags": []
          },
          "execution_count": 12
        },
        {
          "output_type": "display_data",
          "data": {
            "image/png": "[encoded data removed]",
            "text/plain": [
              "<Figure size 432x288 with 1 Axes>"
            ]
          },
          "metadata": {
            "tags": [],
            "needs_background": "light"
          }
        }
      ]
    },
    {
      "cell_type": "code",
      "metadata": {
        "id": "MFbs3GXHAeqe",
        "outputId": "27c503af-bd4c-4ddf-bfe0-43eb10c9ee24",
        "colab": {
          "base_uri": "https://localhost:8080/",
          "height": 34
        }
      },
      "source": [
        "# substituir 10 valores da distribuição (selecionados aleatoriamente) pelo seu dobro:\n",
        "# geração dos indices aleatórios:\n",
        "np.random.seed(19741120)\n",
        "l_indices = np.random.randint(0, i_tam, 10)\n",
        "np.sort(l_indices)"
      ],
      "execution_count": null,
      "outputs": [
        {
          "output_type": "execute_result",
          "data": {
            "text/plain": [
              "array([ 14, 105, 208, 349, 484, 567, 615, 616, 622, 847])"
            ]
          },
          "metadata": {
            "tags": []
          },
          "execution_count": 18
        }
      ]
    },
    {
      "cell_type": "code",
      "metadata": {
        "id": "sY5QNO-P4umB"
      },
      "source": [
        "# substitui o valor dos indices pelo seu dobro\n",
        "a_sal_c2 = a_sal_copia.copy()\n",
        "for i in l_indices:\n",
        "  a_sal_c2[i] *= 2\n"
      ],
      "execution_count": null,
      "outputs": []
    },
    {
      "cell_type": "code",
      "metadata": {
        "id": "jkawOCUn4uZR",
        "outputId": "9e755add-e48f-410f-9984-1c10b56665bc",
        "colab": {
          "base_uri": "https://localhost:8080/",
          "height": 51
        }
      },
      "source": [
        "a_sal_copia[l_indices]"
      ],
      "execution_count": null,
      "outputs": [
        {
          "output_type": "execute_result",
          "data": {
            "text/plain": [
              "array([ 826.43, 1088.61, 1121.95,  833.96, 1165.97, 1081.13, 1078.51,\n",
              "       1094.67,  904.32, 1128.66])"
            ]
          },
          "metadata": {
            "tags": []
          },
          "execution_count": 20
        }
      ]
    },
    {
      "cell_type": "code",
      "metadata": {
        "id": "VD4M-V_i1fyc",
        "outputId": "8383297f-084b-4b46-ca50-3c6cdaf54ed2",
        "colab": {
          "base_uri": "https://localhost:8080/",
          "height": 51
        }
      },
      "source": [
        "a_sal_c2[l_indices]"
      ],
      "execution_count": null,
      "outputs": [
        {
          "output_type": "execute_result",
          "data": {
            "text/plain": [
              "array([1652.85, 2177.23, 2243.89, 1667.93, 2331.93, 2162.26, 2157.02,\n",
              "       2189.34, 1808.63, 2257.32])"
            ]
          },
          "metadata": {
            "tags": []
          },
          "execution_count": 21
        }
      ]
    },
    {
      "cell_type": "code",
      "metadata": {
        "id": "VVpfFDLc1wqC",
        "outputId": "11080196-fdb7-4360-a5b6-72466291df36",
        "colab": {
          "base_uri": "https://localhost:8080/",
          "height": 268
        }
      },
      "source": [
        "# boxplot do novo array\n",
        "sns.set_theme(style=\"whitegrid\")\n",
        "sns.boxplot(y=a_sal_c2, whis=1.5) #whis define a partir de qual valor acima da IQR que serão considerados outliers"
      ],
      "execution_count": null,
      "outputs": [
        {
          "output_type": "execute_result",
          "data": {
            "text/plain": [
              "<matplotlib.axes._subplots.AxesSubplot at 0x7ff52a189c88>"
            ]
          },
          "metadata": {
            "tags": []
          },
          "execution_count": 38
        },
        {
          "output_type": "display_data",
          "data": {
            "image/png": "[encoded data removed]",
            "text/plain": [
              "<Figure size 432x288 with 1 Axes>"
            ]
          },
          "metadata": {
            "tags": []
          }
        }
      ]
    },
    {
      "cell_type": "code",
      "metadata": {
        "id": "ErtQi9TT1w_D"
      },
      "source": [
        ""
      ],
      "execution_count": null,
      "outputs": []
    },
    {
      "cell_type": "code",
      "metadata": {
        "id": "oD2TILbu1wca"
      },
      "source": [
        ""
      ],
      "execution_count": null,
      "outputs": []
    },
    {
      "cell_type": "code",
      "metadata": {
        "id": "ZnmykyahLWX9",
        "outputId": "3bbfbafd-8715-4f72-de0e-693f2dcd9887",
        "colab": {
          "base_uri": "https://localhost:8080/",
          "height": 35
        }
      },
      "source": [
        "# Algumas estatísticas descritivas:\n",
        "f'Média: {np.mean(a_numeros1)}; Mediana: {np.median(a_numeros1)}; STD: {np.std(a_numeros1)}'"
      ],
      "execution_count": null,
      "outputs": [
        {
          "output_type": "execute_result",
          "data": {
            "application/vnd.google.colaboratory.intrinsic+json": {
              "type": "string"
            },
            "text/plain": [
              "'Média: 100.18633633362035; Mediana: 99.33695311387913; STD: 10.028092450008492'"
            ]
          },
          "metadata": {
            "tags": []
          },
          "execution_count": 55
        }
      ]
    },
    {
      "cell_type": "markdown",
      "metadata": {
        "id": "ILhNe80xW5C6"
      },
      "source": [
        "### Solução do desafio"
      ]
    },
    {
      "cell_type": "code",
      "metadata": {
        "id": "U993i1GJg2hk",
        "outputId": "4f8185a8-327a-4502-8998-c81cfd28cc20",
        "colab": {
          "base_uri": "https://localhost:8080/",
          "height": 269
        }
      },
      "source": [
        "# Import a biblioteca seaborn:\n",
        "import seaborn as sns\n",
        "sns.boxplot(y = a_numeros1_copia)"
      ],
      "execution_count": null,
      "outputs": [
        {
          "output_type": "execute_result",
          "data": {
            "text/plain": [
              "<matplotlib.axes._subplots.AxesSubplot at 0x7fbf941ea5c0>"
            ]
          },
          "metadata": {
            "tags": []
          },
          "execution_count": 57
        },
        {
          "output_type": "display_data",
          "data": {
            "image/png": "[encoded data removed]",
            "text/plain": [
              "<Figure size 432x288 with 1 Axes>"
            ]
          },
          "metadata": {
            "tags": [],
            "needs_background": "light"
          }
        }
      ]
    },
    {
      "cell_type": "markdown",
      "metadata": {
        "id": "VtenLK1uK1Pi"
      },
      "source": [
        "Consegue identificar os outliers do array?"
      ]
    },
    {
      "cell_type": "markdown",
      "metadata": {
        "id": "e3sHuGVGFBdW"
      },
      "source": [
        "## Objetivo\n",
        "> Substituir os outliers por mediana. \n",
        "\n",
        "* Como fazer isso?"
      ]
    },
    {
      "cell_type": "markdown",
      "metadata": {
        "id": "RSegPNKCI-dS"
      },
      "source": [
        "### Siga os passos a seguir\n",
        "1. Calcule estatísticas descritivas antes das transformações par avaliar o impacto;\n",
        "    * Calcule média, mediana e desvio-padrão dos dados originais;\n",
        "2. Calcule os valores a seguir:\n",
        "    * Q1, Q3\n",
        "    * IQR = Q3-Q1\n",
        "    * lim_inferior = Q1-1.5\\*IQR\n",
        "    * lim_superior = Q3+1.5\\*IQR\n",
        "3. Proceda à substituição:\n",
        "    * Se a_numeros1_copia[i] < lim_inferior então a_numeros1_copia[i]= Mediana\n",
        "    * Se a_numeros1_copia[i] > lim_superior então a_numeros1_copia[i]= Mediana\n",
        "4. Calcule as estatísticas descritivas após as substituições e compare com os valores antes das transformações."
      ]
    },
    {
      "cell_type": "markdown",
      "metadata": {
        "id": "9DQ7YnWaFn4v"
      },
      "source": [
        "### Minha solução\n"
      ]
    },
    {
      "cell_type": "markdown",
      "metadata": {
        "id": "RBXJbTeGLC7Q"
      },
      "source": [
        "1. Estatísticas Descritivas antes das transformações:"
      ]
    },
    {
      "cell_type": "code",
      "metadata": {
        "id": "QueKYn7MLG12"
      },
      "source": [
        "# Algumas estatísticas descritivas:\n",
        "f'Média: {np.mean(a_numeros1_copia)}; Mediana: {np.median(a_numeros1_copia)}; STD: {np.std(a_numeros1_copia)}'"
      ],
      "execution_count": null,
      "outputs": []
    },
    {
      "cell_type": "markdown",
      "metadata": {
        "id": "oOBJ8INWL5fo"
      },
      "source": [
        "Observe o quanto nossos dados estão distorcidos dos valores originalmente utilizados."
      ]
    },
    {
      "cell_type": "markdown",
      "metadata": {
        "id": "MX-fJeh2MBTD"
      },
      "source": [
        "2. Calcular Q1, Q3 e IQR"
      ]
    },
    {
      "cell_type": "code",
      "metadata": {
        "id": "JlsPiQeGMGeU"
      },
      "source": [
        "Q1= np.percentile(a_numeros1_copia, q = [25])\n",
        "Q3= np.percentile(a_numeros1_copia, q = [75])\n",
        "Q2= np.percentile(a_numeros1_copia, q = [50])\n",
        "IQR = Q3-Q1\n",
        "lim_inferior = Q1-1.5*IQR\n",
        "lim_superior = Q3+1.5*IQR"
      ],
      "execution_count": null,
      "outputs": []
    },
    {
      "cell_type": "code",
      "metadata": {
        "id": "VF2NJ3rCeI1_"
      },
      "source": [
        "f'Q1: {Q1}; Q3: {Q3}; lim_inferior: {lim_inferior}; lim_superior: {lim_superior}'"
      ],
      "execution_count": null,
      "outputs": []
    },
    {
      "cell_type": "markdown",
      "metadata": {
        "id": "JjnwJ7HwMxcl"
      },
      "source": [
        "3. Substituir\n",
        "* Se a_numeros1[i] < lim_inferior então a_numeros1[i]= Mediana\n",
        "* Se a_numeros1[i] > Lia_Sup então a_numeros1[i]= Mediana"
      ]
    },
    {
      "cell_type": "code",
      "metadata": {
        "id": "hcAn-IwVfbcI"
      },
      "source": [
        "a_numeros2 = a_numeros1_copia.copy()"
      ],
      "execution_count": null,
      "outputs": []
    },
    {
      "cell_type": "code",
      "metadata": {
        "id": "J3SSE45oM9oh"
      },
      "source": [
        "a_numeros2[a_numeros2 < lim_inferior[0]] = Q2[0]\n",
        "a_numeros2[a_numeros2 > lim_superior[0]] = Q2[0]\n",
        "a_numeros2"
      ],
      "execution_count": null,
      "outputs": []
    },
    {
      "cell_type": "markdown",
      "metadata": {
        "id": "VEGFio0Nfj7O"
      },
      "source": [
        "4. Estatísticas Descritivas para avaliarmos o impacto:"
      ]
    },
    {
      "cell_type": "code",
      "metadata": {
        "id": "gX1LZHFqfjFQ"
      },
      "source": [
        "# Algumas estatísticas descritivas:\n",
        "f'Média: {np.mean(a_numeros2)}; Mediana: {np.median(a_numeros2)}; STD: {np.std(a_numeros2)}'"
      ],
      "execution_count": null,
      "outputs": []
    },
    {
      "cell_type": "code",
      "metadata": {
        "id": "-xnguZ7XgyvK"
      },
      "source": [
        "# Import a biblioteca seaborn:\n",
        "import seaborn as sns\n",
        "sns.boxplot(y = a_numeros2)"
      ],
      "execution_count": null,
      "outputs": []
    },
    {
      "cell_type": "markdown",
      "metadata": {
        "id": "uEPFcBjFhETQ"
      },
      "source": [
        "Como podem ver, os outliers desapareceram, como queríamos."
      ]
    },
    {
      "cell_type": "markdown",
      "metadata": {
        "id": "tHfzjW_ymKuR"
      },
      "source": [
        "___\n",
        "# **Valores únicos**\n",
        "> Considere o array a seguir:"
      ]
    },
    {
      "cell_type": "code",
      "metadata": {
        "id": "HzmQgWZVmUUD"
      },
      "source": [
        "np.random.seed(20111974)\n",
        "a_numeros1 = np.random.randint(0, 100, 100)\n",
        "a_numeros1"
      ],
      "execution_count": null,
      "outputs": []
    },
    {
      "cell_type": "markdown",
      "metadata": {
        "id": "Dm9ky1F1mrNA"
      },
      "source": [
        "Quem são os valores únicos do array?"
      ]
    },
    {
      "cell_type": "code",
      "metadata": {
        "id": "G-LPRqc-mS5j"
      },
      "source": [
        "np.unique(a_numeros1)"
      ],
      "execution_count": null,
      "outputs": []
    },
    {
      "cell_type": "markdown",
      "metadata": {
        "id": "uXZZoTd6nMuq"
      },
      "source": [
        "___\n",
        "# **Diferença entre dois arrays**\n",
        "> O resultado é um array com os **valores únicos de A que não estão em B**. Na teoria de conjuntos escrevemos $A - B = A - A \\cap B$.\n",
        "\n",
        "![Difference](https://github.com/MathMachado/Materials/blob/master/set_Difference.PNG?raw=true)\n",
        "\n",
        "Fonte: [Python Set](https://www.learnbyexample.org/python-set/)"
      ]
    },
    {
      "cell_type": "markdown",
      "metadata": {
        "id": "uW6i3m9q1ZNs"
      },
      "source": [
        "\n",
        "* Vamos ver como isso funciona na prática:"
      ]
    },
    {
      "cell_type": "markdown",
      "metadata": {
        "id": "vw05sfe22mfk"
      },
      "source": [
        "## Exemplo 1"
      ]
    },
    {
      "cell_type": "code",
      "metadata": {
        "id": "Qqw2do90nQ7k"
      },
      "source": [
        "a_numeros1 = np.array([0, 1, 2, 4, 5, 7, 8, 8]) # array de valores que serão excluidos em a_numeros1. Observe que '3' não pertence a a_numeros1.\n",
        "a_numeros2 = np.array([1, 6, 7, 3])"
      ],
      "execution_count": null,
      "outputs": []
    },
    {
      "cell_type": "code",
      "metadata": {
        "id": "zXJ00pOMorM-"
      },
      "source": [
        "np.setdiff1d(a_numeros1, a_numeros2)"
      ],
      "execution_count": null,
      "outputs": []
    },
    {
      "cell_type": "markdown",
      "metadata": {
        "id": "8GXZNgjfo8lO"
      },
      "source": [
        "Observe que o resultado são os elementos de a_numeros1 que não pertencem a x_Y. Mas como fica o '3' nesta história?"
      ]
    },
    {
      "cell_type": "markdown",
      "metadata": {
        "id": "aJSu6VKb2oc_"
      },
      "source": [
        "## Exemplo 2"
      ]
    },
    {
      "cell_type": "code",
      "metadata": {
        "id": "N1wahElXTqoB"
      },
      "source": [
        "a_numeros1 = np.arange(10)\n",
        "a_numeros1"
      ],
      "execution_count": null,
      "outputs": []
    },
    {
      "cell_type": "code",
      "metadata": {
        "id": "nxDpCMg7T7Rj"
      },
      "source": [
        "a_numeros2 = np.array([1, 5, 7])\n",
        "a_numeros2"
      ],
      "execution_count": null,
      "outputs": []
    },
    {
      "cell_type": "code",
      "metadata": {
        "id": "3LU3qYyiUXqm"
      },
      "source": [
        "np.setdiff1d(a_numeros1, a_numeros2)"
      ],
      "execution_count": null,
      "outputs": []
    },
    {
      "cell_type": "markdown",
      "metadata": {
        "id": "mzZEytrRUioU"
      },
      "source": [
        "Observe que os elementos de a_numeros2 foram deletados de a_numeros1. Ok?"
      ]
    },
    {
      "cell_type": "markdown",
      "metadata": {
        "id": "gJRcoVRUnaY9"
      },
      "source": [
        "___\n",
        "# Diferença Simétrica\n",
        "* Em teoria de conjuntos, chamamos de Diferença Simétrica e escrevemos $(A \\cup B)- (A \\cap B)$.\n",
        "\n",
        "![DifferenceSymetric](https://github.com/MathMachado/Materials/blob/master/set_DifferenceSymetric.PNG?raw=true)\n",
        "\n",
        "Fonte: [Python Set](https://www.learnbyexample.org/python-set/)"
      ]
    },
    {
      "cell_type": "markdown",
      "metadata": {
        "id": "2Uzzm85Kup3H"
      },
      "source": [
        "* Vamos ver como isso funciona na prática:"
      ]
    },
    {
      "cell_type": "code",
      "metadata": {
        "id": "1z5wZ8VwpsWN"
      },
      "source": [
        "import numpy as np\n",
        "a_numeros1 = np.array([0, 1, 2, 4, 5, 7, 8]) # Observe que [1, 4, 7] pertencem a a_numeros1, mas 3, não. Portanto:\n",
        "a_numeros2 = np.array([1, 4, 7, 3])"
      ],
      "execution_count": null,
      "outputs": []
    },
    {
      "cell_type": "code",
      "metadata": {
        "id": "Tqd_9XO5p7bo"
      },
      "source": [
        "np.setxor1d(a_numeros1, a_numeros2)"
      ],
      "execution_count": null,
      "outputs": []
    },
    {
      "cell_type": "markdown",
      "metadata": {
        "id": "_meurG3mqS5Y"
      },
      "source": [
        "Como explicamos ou interpretamos este resultado?"
      ]
    },
    {
      "cell_type": "markdown",
      "metadata": {
        "id": "Kc8JoKe2nj2n"
      },
      "source": [
        "___\n",
        "# **União de dois arrays**\n",
        "> Retorna os valores **únicos** dos dois arrays. Na teoria dos conjuntos, escrevemos:\n",
        "\n",
        "$$A \\cup B$$\n",
        "\n",
        "![Union](https://github.com/MathMachado/Materials/blob/master/set_Union.PNG?raw=true)\n",
        "\n",
        "Fonte: [Python Set](https://www.learnbyexample.org/python-set/)"
      ]
    },
    {
      "cell_type": "code",
      "metadata": {
        "id": "1LZxorw2p2mg"
      },
      "source": [
        "a_numeros1 = np.array([0, 1, 2, 4, 5, 7, 8, 8])\n",
        "\n",
        "# Observe que [1, 4, 7] pertencem a a_numeros1, mas 3, não. Portanto:\n",
        "a_numeros2 = np.array([1, 4, 7, 3])"
      ],
      "execution_count": null,
      "outputs": []
    },
    {
      "cell_type": "code",
      "metadata": {
        "id": "COsZEmSwuY5L"
      },
      "source": [
        "np.union1d(a_numeros1, a_numeros2)"
      ],
      "execution_count": null,
      "outputs": []
    },
    {
      "cell_type": "markdown",
      "metadata": {
        "id": "b53bR-GYRu_3"
      },
      "source": [
        "___\n",
        "# **Selecionar itens comuns dos arrays X e Y**\n",
        "* Na teoria de conjuntos, chamamos de intersecção e escrevemos $X \\cap Y$.\n",
        "\n",
        "![Intersection](https://github.com/MathMachado/Materials/blob/master/set_Intersection.PNG?raw=true)\n",
        "\n",
        "Fonte: [Python Set](https://www.learnbyexample.org/python-set/)"
      ]
    },
    {
      "cell_type": "markdown",
      "metadata": {
        "id": "n2ec2tqqR1Gw"
      },
      "source": [
        "* Considere os arrays a seguir:"
      ]
    },
    {
      "cell_type": "code",
      "metadata": {
        "id": "rXVQQvBqR4J-"
      },
      "source": [
        "a_numeros1 = np.arange(10)\n",
        "a_numeros1"
      ],
      "execution_count": null,
      "outputs": []
    },
    {
      "cell_type": "code",
      "metadata": {
        "id": "pZTHhHxGSRfB"
      },
      "source": [
        "a_numeros2 = np.arange(8, 18)\n",
        "a_numeros2"
      ],
      "execution_count": null,
      "outputs": []
    },
    {
      "cell_type": "markdown",
      "metadata": {
        "id": "MxB2_qHpScMB"
      },
      "source": [
        "Quais são os elementos comuns à X e Y?"
      ]
    },
    {
      "cell_type": "code",
      "metadata": {
        "id": "e-rncJHtSfw0"
      },
      "source": [
        "np.intersect1d(a_numeros1, a_numeros2)"
      ],
      "execution_count": null,
      "outputs": []
    },
    {
      "cell_type": "markdown",
      "metadata": {
        "id": "3Bb39sWdfqaF"
      },
      "source": [
        "___\n",
        "# **Autovalores e Autovetores**\n",
        "> Autovetor e Autovalor são um dos tópicos mais importantes em Machine Learning.\n",
        "\n",
        "Por definição, o escalar $\\lambda$ e o vetor $v$ são autovalor e autovetor da matriz $A$ se\n",
        "\n",
        "$$Av = \\lambda v$$\n",
        "\n",
        "## Leitura Adicional:\n",
        "\n",
        "* [Machine Learning & Linear Algebra — Eigenvalue and eigenvector](https://medium.com/@jonathan_hui/machine-learning-linear-algebra-eigenvalue-and-eigenvector-f8d0493564c9)"
      ]
    },
    {
      "cell_type": "markdown",
      "metadata": {
        "id": "XZBKq8nGCUbL"
      },
      "source": [
        "* O array a_numeros2 tem a seguinte forma:"
      ]
    },
    {
      "cell_type": "code",
      "metadata": {
        "id": "iYlZGKFUfw-R"
      },
      "source": [
        "a_numeros2"
      ],
      "execution_count": null,
      "outputs": []
    },
    {
      "cell_type": "code",
      "metadata": {
        "id": "6EfvIbBNf02Z"
      },
      "source": [
        "# Calcula autovalores e autovetores:\n",
        "a_Autovalores, a_Autovetores= np.linalg.eig(a_numeros2)"
      ],
      "execution_count": null,
      "outputs": []
    },
    {
      "cell_type": "markdown",
      "metadata": {
        "id": "v3GtQQvAz9QU"
      },
      "source": [
        "Os autovalores do array a_numeros2 são:"
      ]
    },
    {
      "cell_type": "code",
      "metadata": {
        "id": "WvZGyBR1f9vP"
      },
      "source": [
        "a_Autovalores"
      ],
      "execution_count": null,
      "outputs": []
    },
    {
      "cell_type": "markdown",
      "metadata": {
        "id": "AuuDRJVh0FC8"
      },
      "source": [
        "Os autovetores do array a_numeros2 são:"
      ]
    },
    {
      "cell_type": "code",
      "metadata": {
        "id": "6m4YFAwsf_rA"
      },
      "source": [
        "a_Autovetores"
      ],
      "execution_count": null,
      "outputs": []
    },
    {
      "cell_type": "markdown",
      "metadata": {
        "id": "DASn2Un9ZNV-"
      },
      "source": [
        "___\n",
        "# **Encontrar Missing Values (NaN)**"
      ]
    },
    {
      "cell_type": "markdown",
      "metadata": {
        "id": "TKilWBsSXtR4"
      },
      "source": [
        "## Gerar o exemplo"
      ]
    },
    {
      "cell_type": "code",
      "metadata": {
        "id": "lqLI2ER_ZUMY"
      },
      "source": [
        "np.random.seed(20111974)\n",
        "a_numeros1 = np.random.random(100)\n",
        "\n",
        "# Inserindo 15 NaN's no array:\n",
        "np.random.seed(20111974)\n",
        "l_indices_aleatorios= np.random.randint(0, 100, size = 15)\n",
        "\n",
        "for i_indices in l_indices_aleatorios:\n",
        "    #print(i_indices)\n",
        "    a_numeros1[i_indices] = np.nan"
      ],
      "execution_count": null,
      "outputs": []
    },
    {
      "cell_type": "code",
      "metadata": {
        "id": "2ZkbMPXMawYh"
      },
      "source": [
        "a_numeros1"
      ],
      "execution_count": null,
      "outputs": []
    },
    {
      "cell_type": "markdown",
      "metadata": {
        "id": "Z7Bs75NvbSjx"
      },
      "source": [
        "Ok, inserimos aleatoriamente 14 NaN's no array a_numeros1. Agora, vamos contar quantos NaN's (já sabemos a resposta!)."
      ]
    },
    {
      "cell_type": "markdown",
      "metadata": {
        "id": "hL1Wn0vdX8ur"
      },
      "source": [
        "## Identificar os NaN's"
      ]
    },
    {
      "cell_type": "code",
      "metadata": {
        "id": "5R-n3H0xbd6d"
      },
      "source": [
        "np.isnan(a_numeros1).sum()"
      ],
      "execution_count": null,
      "outputs": []
    },
    {
      "cell_type": "markdown",
      "metadata": {
        "id": "Y7hh5uowoa3U"
      },
      "source": [
        "Ok, temos 14 NaN's em a_numeros1."
      ]
    },
    {
      "cell_type": "markdown",
      "metadata": {
        "id": "iVLQf_bqbyNU"
      },
      "source": [
        "Ok, agora eu quero saber os índices desses NaN's."
      ]
    },
    {
      "cell_type": "code",
      "metadata": {
        "id": "kJHxjZiwb5HM"
      },
      "source": [
        "i_indices= np.where(np.isnan(a_numeros1))\n",
        "i_indices"
      ],
      "execution_count": null,
      "outputs": []
    },
    {
      "cell_type": "code",
      "metadata": {
        "id": "W_jHGNImok7L"
      },
      "source": [
        "# Checando...\n",
        "a_numeros1[2]"
      ],
      "execution_count": null,
      "outputs": []
    },
    {
      "cell_type": "markdown",
      "metadata": {
        "id": "iPhHAhDYcMWO"
      },
      "source": [
        "Vamos conferir se está correto? Para isso, basta comparar com l_indices_aleatorios:"
      ]
    },
    {
      "cell_type": "markdown",
      "metadata": {
        "id": "gxQYslRCe11G"
      },
      "source": [
        "___\n",
        "# **Deletar NaN's de um array**\n",
        "> Considere o mesmo array que acabamos de trabalhar. Agora eu quero excluir os NaN's identificados."
      ]
    },
    {
      "cell_type": "code",
      "metadata": {
        "id": "AeBARFqNfNnN"
      },
      "source": [
        "a_numeros1"
      ],
      "execution_count": null,
      "outputs": []
    },
    {
      "cell_type": "code",
      "metadata": {
        "id": "e497B492fFru"
      },
      "source": [
        "a_numeros1[~np.isnan(a_numeros1)]"
      ],
      "execution_count": null,
      "outputs": []
    },
    {
      "cell_type": "markdown",
      "metadata": {
        "id": "RpvKfJU_fmA6"
      },
      "source": [
        "Observe que os NaN's foram excluidos."
      ]
    },
    {
      "cell_type": "markdown",
      "metadata": {
        "id": "_Dv8MmNYg8zN"
      },
      "source": [
        "___\n",
        "# **Converter lista em array**\n",
        "> Considere a lista a seguir:"
      ]
    },
    {
      "cell_type": "code",
      "metadata": {
        "id": "but6T9dVhFYb"
      },
      "source": [
        "l_Lista = [np.random.randint(0, 10, 10)]\n",
        "l_Lista"
      ],
      "execution_count": null,
      "outputs": []
    },
    {
      "cell_type": "code",
      "metadata": {
        "id": "xytj4Eo4hTh9"
      },
      "source": [
        "type(l_Lista)"
      ],
      "execution_count": null,
      "outputs": []
    },
    {
      "cell_type": "markdown",
      "metadata": {
        "id": "qrINdcruhWcH"
      },
      "source": [
        "Convertendo a minha lista para array:"
      ]
    },
    {
      "cell_type": "code",
      "metadata": {
        "id": "RoSyaX0OhZSE"
      },
      "source": [
        "a_numeros = np.asarray(l_Lista)\n",
        "a_numeros"
      ],
      "execution_count": null,
      "outputs": []
    },
    {
      "cell_type": "code",
      "metadata": {
        "id": "dMjTdbBUhlrk"
      },
      "source": [
        "type(a_numeros)"
      ],
      "execution_count": null,
      "outputs": []
    },
    {
      "cell_type": "markdown",
      "metadata": {
        "id": "Mbm3ZP9DhxDI"
      },
      "source": [
        "___\n",
        "# Converter tupla em array\n",
        "> Considere a tupla a seguir:"
      ]
    },
    {
      "cell_type": "code",
      "metadata": {
        "id": "cZxEFYLAh3S_"
      },
      "source": [
        "np.random.seed(20111974)\n",
        "t_numeros = ([np.random.randint(0, 10, 3)], [np.random.randint(0, 10, 3)], [np.random.randint(0, 10, 3)])\n",
        "t_numeros"
      ],
      "execution_count": null,
      "outputs": []
    },
    {
      "cell_type": "code",
      "metadata": {
        "id": "vlTXUJviiAml"
      },
      "source": [
        "type(t_numeros)"
      ],
      "execution_count": null,
      "outputs": []
    },
    {
      "cell_type": "code",
      "metadata": {
        "id": "yEaOlq8oh3oh"
      },
      "source": [
        "a_numeros = np.asarray(t_numeros)\n",
        "a_numeros"
      ],
      "execution_count": null,
      "outputs": []
    },
    {
      "cell_type": "code",
      "metadata": {
        "id": "PSgQDmRWh3g5"
      },
      "source": [
        "type(a_numeros)"
      ],
      "execution_count": null,
      "outputs": []
    },
    {
      "cell_type": "markdown",
      "metadata": {
        "id": "pH-Ht6yMiqJN"
      },
      "source": [
        "___\n",
        "# Acrescentar elementos à um array\n",
        "> Considere o array a seguir:"
      ]
    },
    {
      "cell_type": "code",
      "metadata": {
        "id": "dFaDZInZiwoo"
      },
      "source": [
        "a_numeros1 = np.arange(5)\n",
        "a_numeros1"
      ],
      "execution_count": null,
      "outputs": []
    },
    {
      "cell_type": "code",
      "metadata": {
        "id": "d3zrlf_Ci73Z"
      },
      "source": [
        "np.random.seed(20111974)\n",
        "a_numeros1 = np.append(a_numeros1, [np.random.randint(0, 10, 3), np.random.randint(0, 10, 3), np.random.randint(0, 10, 3)])\n",
        "a_numeros1"
      ],
      "execution_count": null,
      "outputs": []
    },
    {
      "cell_type": "markdown",
      "metadata": {
        "id": "eFRhtk13ojqA"
      },
      "source": [
        "___\n",
        "# **Converter array 1D num array 2D**\n",
        "> Considere os arrays a seguir:"
      ]
    },
    {
      "cell_type": "code",
      "metadata": {
        "id": "wYhBgW9Zu6ZP"
      },
      "source": [
        "np.random.seed(20111974)\n",
        "a_numeros1 = np.array(np.random.randint(0, 10, 6))\n",
        "\n",
        "np.random.seed(19741120)\n",
        "a_numeros2 = np.array(np.random.randint(0, 10, 6))"
      ],
      "execution_count": null,
      "outputs": []
    },
    {
      "cell_type": "code",
      "metadata": {
        "id": "febs9AUHvs6n"
      },
      "source": [
        "a_numeros1"
      ],
      "execution_count": null,
      "outputs": []
    },
    {
      "cell_type": "code",
      "metadata": {
        "id": "C9OEd-iavvBm"
      },
      "source": [
        "a_numeros2"
      ],
      "execution_count": null,
      "outputs": []
    },
    {
      "cell_type": "code",
      "metadata": {
        "id": "KJWjtaWKv0MJ"
      },
      "source": [
        "np.column_stack((a_numeros1, a_numeros2)) # Atenção aos parênteses em (a_numeros1, a_numeros2)."
      ],
      "execution_count": null,
      "outputs": []
    },
    {
      "cell_type": "markdown",
      "metadata": {
        "id": "xr_WZXJ7pi2D"
      },
      "source": [
        "___\n",
        "# **Excluir um elemento específico do array usando indices**\n",
        "> Considere os arrays a seguir:"
      ]
    },
    {
      "cell_type": "code",
      "metadata": {
        "id": "tS0ZzOs8w0dw"
      },
      "source": [
        "np.random.seed(20111974)\n",
        "a_numeros1 = np.array(np.random.randint(0, 10, 6))\n",
        "a_numeros1"
      ],
      "execution_count": null,
      "outputs": []
    },
    {
      "cell_type": "markdown",
      "metadata": {
        "id": "7bOJiKDKxEsC"
      },
      "source": [
        "Suponha que eu queira excluir os valores '8' de a_numeros1. Os índices dos valores '8' são: [0, 1, 3]. Portanto, temos:"
      ]
    },
    {
      "cell_type": "code",
      "metadata": {
        "id": "SSjueEvjxTJO"
      },
      "source": [
        "a_numeros1 = np.delete(a_numeros1, [0, 1, 3])\n",
        "a_numeros1"
      ],
      "execution_count": null,
      "outputs": []
    },
    {
      "cell_type": "markdown",
      "metadata": {
        "id": "mZkGZ2Rgp--5"
      },
      "source": [
        "___\n",
        "# **Frequência dos valores únicos de um array**\n",
        "> Considere o array a seguir:"
      ]
    },
    {
      "cell_type": "code",
      "metadata": {
        "id": "Z2BWKfH0xvQ8"
      },
      "source": [
        "np.random.seed(20111974)\n",
        "a_numeros1 = np.array(np.random.randint(0, 10, 100))\n",
        "a_numeros1"
      ],
      "execution_count": null,
      "outputs": []
    },
    {
      "cell_type": "markdown",
      "metadata": {
        "id": "s_tdQBsax4rQ"
      },
      "source": [
        "Suponha que eu queira saber quantas vezes o número/elemento '2' aparece em a_numeros1."
      ]
    },
    {
      "cell_type": "code",
      "metadata": {
        "id": "6yIlk7pWyAtf"
      },
      "source": [
        "l_itens_unicos, i_count = np.unique(a_numeros1, return_counts=True)\n",
        "l_itens_unicos"
      ],
      "execution_count": null,
      "outputs": []
    },
    {
      "cell_type": "markdown",
      "metadata": {
        "id": "DyvrIwS9yZIR"
      },
      "source": [
        "O que significa o output acima?"
      ]
    },
    {
      "cell_type": "code",
      "metadata": {
        "id": "uO-MPMhXyV9H"
      },
      "source": [
        "i_count"
      ],
      "execution_count": null,
      "outputs": []
    },
    {
      "cell_type": "markdown",
      "metadata": {
        "id": "zwoezXrPyofK"
      },
      "source": [
        "Qual a interpretação do output acima?"
      ]
    },
    {
      "cell_type": "code",
      "metadata": {
        "id": "HgYycSG7yr5e"
      },
      "source": [
        "np.asarray((l_itens_unicos, i_count))"
      ],
      "execution_count": null,
      "outputs": []
    },
    {
      "cell_type": "markdown",
      "metadata": {
        "id": "SwIZiJAiy06T"
      },
      "source": [
        "Qual a interpretação do output acima?"
      ]
    },
    {
      "cell_type": "markdown",
      "metadata": {
        "id": "JpNRpN2Dql3N"
      },
      "source": [
        "___\n",
        "# **Combinações possíveis de outros arrays**\n",
        "> Considere o exemplo a seguir:\n"
      ]
    },
    {
      "cell_type": "code",
      "metadata": {
        "id": "BUr89dH4zLXD"
      },
      "source": [
        "a_numeros1 = [2, 4, 6]\n",
        "a_numeros2 = [0, 8]\n",
        "a_numeros4 = [1, 5]"
      ],
      "execution_count": null,
      "outputs": []
    },
    {
      "cell_type": "code",
      "metadata": {
        "id": "cEZH6l-Czx7y"
      },
      "source": [
        "np.meshgrid(a_numeros1, a_numeros2, a_numeros4)"
      ],
      "execution_count": null,
      "outputs": []
    },
    {
      "cell_type": "code",
      "metadata": {
        "id": "btvmDkEcz0tH"
      },
      "source": [
        "np.array(np.meshgrid(a_numeros1, a_numeros2, a_numeros4))"
      ],
      "execution_count": null,
      "outputs": []
    },
    {
      "cell_type": "code",
      "metadata": {
        "id": "Z0xhO7rGz059"
      },
      "source": [
        "np.array(np.meshgrid(a_numeros1, a_numeros2, a_numeros4)).T"
      ],
      "execution_count": null,
      "outputs": []
    },
    {
      "cell_type": "code",
      "metadata": {
        "id": "eMv4lFnD0Enn"
      },
      "source": [
        "# Resultado final\n",
        "a_numeros3 = np.array(np.meshgrid(a_numeros1, a_numeros2, a_numeros4)).T.reshape(-1,3)\n",
        "a_numeros3"
      ],
      "execution_count": null,
      "outputs": []
    },
    {
      "cell_type": "markdown",
      "metadata": {
        "id": "Rz80YANfAh2k"
      },
      "source": [
        "___\n",
        "# **Wrap Up**"
      ]
    },
    {
      "cell_type": "markdown",
      "metadata": {
        "id": "_cyhMsAVXxGC"
      },
      "source": [
        "___\n",
        "# **Exercícios**"
      ]
    },
    {
      "cell_type": "markdown",
      "metadata": {
        "id": "kNjovMw3uJ3R"
      },
      "source": [
        "## Exercício 1 - Selecionar os números pares\n",
        "> Dado o 1D array abaixo, selecionar somente os números pares."
      ]
    },
    {
      "cell_type": "code",
      "metadata": {
        "id": "isDzQjwjBX3V"
      },
      "source": [
        "a_numeros1 = np.array([0, 1, 2, 3, 4, 5, 6, 7, 8, 9])\n",
        "a_numeros1"
      ],
      "execution_count": null,
      "outputs": []
    },
    {
      "cell_type": "markdown",
      "metadata": {
        "id": "Kq1zt-uO1HXv"
      },
      "source": [
        "### **Minha solução**"
      ]
    },
    {
      "cell_type": "code",
      "metadata": {
        "id": "YFmK_n2M1Ks9"
      },
      "source": [
        "a_numeros1[a_numeros1 % 2 == 0]"
      ],
      "execution_count": null,
      "outputs": []
    },
    {
      "cell_type": "markdown",
      "metadata": {
        "id": "sScYG0hp05vb"
      },
      "source": [
        "___\n",
        "## Exercício 2 - Substituir pela mediana\n",
        "> Dado o array 1D abaixo, substituir os números pares pela mediana de a_numeros1."
      ]
    },
    {
      "cell_type": "code",
      "metadata": {
        "id": "XLZ-DIWU1WFs"
      },
      "source": [
        "a_numeros1 = np.array([0, 1, 2, 3, 4, 5, 6, 7, 8, 9])\n",
        "a_numeros1"
      ],
      "execution_count": null,
      "outputs": []
    },
    {
      "cell_type": "markdown",
      "metadata": {
        "id": "9c4QWJno1WVB"
      },
      "source": [
        "### **Minha solução**\n",
        "* Primeiramente, precisamos calcular a mediana.\n",
        "* Depois, substituimos os valores pares de a_numeros1 pela mediana encontrada anteriormente. Ok?"
      ]
    },
    {
      "cell_type": "code",
      "metadata": {
        "id": "rx7NGAO01Wfb"
      },
      "source": [
        "a_numeros1[a_numeros1 % 2 == 0] = np.median(a_numeros1)\n",
        "a_numeros1"
      ],
      "execution_count": null,
      "outputs": []
    },
    {
      "cell_type": "markdown",
      "metadata": {
        "id": "2c_AphX82qp8"
      },
      "source": [
        "Verificando..."
      ]
    },
    {
      "cell_type": "code",
      "metadata": {
        "id": "9kVta0Cr13Z9"
      },
      "source": [
        "f'A média de a_numeros1 é: {np.median(a_numeros1)}'"
      ],
      "execution_count": null,
      "outputs": []
    },
    {
      "cell_type": "markdown",
      "metadata": {
        "id": "L9O-Hf5x26TY"
      },
      "source": [
        "___\n",
        "## Exercício 3 - Reshape\n",
        "> Dado o array 1D abaixo, reshape para um array 2D com 3 colunas."
      ]
    },
    {
      "cell_type": "code",
      "metadata": {
        "id": "0_laUvtB4Wl-"
      },
      "source": [
        "# Define seed\n",
        "np.random.seed(20111974)\n",
        "a_numeros1 = np.array(np.random.randint(1, 10, size = 15))\n",
        "a_numeros1"
      ],
      "execution_count": null,
      "outputs": []
    },
    {
      "cell_type": "markdown",
      "metadata": {
        "id": "dKzEX8TK5b4Z"
      },
      "source": [
        "### **Minha solução**\n",
        "* O array 1D a_numeros1 acima possui 15 elementos. Como queremos transformá-lo num array 2D com 3 colunas, então cada coluna terá 5 elementos."
      ]
    },
    {
      "cell_type": "code",
      "metadata": {
        "id": "I-j5yVD04249"
      },
      "source": [
        "a_numeros1.reshape(5, 3) \n",
        "# Poderia ser a_numeros1.reshape(-1, 3), onde \"-1\" pede para o NumPy calcular o número de linhas. "
      ],
      "execution_count": null,
      "outputs": []
    },
    {
      "cell_type": "markdown",
      "metadata": {
        "id": "F1vfS8jE6L0_"
      },
      "source": [
        "___\n",
        "## Exercício 4 - Reshape\n",
        "> Dado o array 1D abaixo, reshape para um array 3D com 2 colunas."
      ]
    },
    {
      "cell_type": "code",
      "metadata": {
        "id": "xcN-bez56L1D"
      },
      "source": [
        "# Define seed\n",
        "np.random.seed(20111974)\n",
        "a_numeros1 = np.array(np.random.randint(1, 10, size = 16))\n",
        "a_numeros1"
      ],
      "execution_count": null,
      "outputs": []
    },
    {
      "cell_type": "markdown",
      "metadata": {
        "id": "7iICnOyG6fcj"
      },
      "source": [
        "### **Minha solução**\n",
        "* O array 1D a_numeros1 acima possui 16 elementos. Queremos transformá-lo num array 3D com 2 colunas."
      ]
    },
    {
      "cell_type": "code",
      "metadata": {
        "id": "vdq5ybuD6fcn"
      },
      "source": [
        "a_numeros1.reshape(-1, 2) # O valor \"-1\" na posição das linhas pede ao NumPy para calcular o número de linhas automaticamente."
      ],
      "execution_count": null,
      "outputs": []
    },
    {
      "cell_type": "markdown",
      "metadata": {
        "id": "haQfWPcCs_H0"
      },
      "source": [
        "## Exercício 5\n",
        "Para mais exercícios envolvendo arrays, visite a página [Python: Array Exercises, Practice, Solution](https://www.w3resource.com/python-exercises/array/)."
      ]
    },
    {
      "cell_type": "markdown",
      "metadata": {
        "id": "LQQL0JS2tnc0"
      },
      "source": [
        "## Exercício 6\n",
        "Para mais exercícios envolvendo matemática, viste a página [Python Math: - Exercises, Practice, Solution](https://www.w3resource.com/python-exercises/math/index.php)."
      ]
    },
    {
      "cell_type": "markdown",
      "metadata": {
        "id": "qNskKFy9t4D5"
      },
      "source": [
        "## Exercício 7\n",
        "Para mais exercícios envolvendo NumPy em geral, visite a página [NumPy Exercises, Practice, Solution](https://www.w3resource.com/python-exercises/numpy/index.php)."
      ]
    },
    {
      "cell_type": "markdown",
      "metadata": {
        "id": "qqc1AiHXuKZ5"
      },
      "source": [
        "## Exercício 8\n"
      ]
    },
    {
      "cell_type": "code",
      "metadata": {
        "id": "jYrgc3KvtmLy"
      },
      "source": [
        ""
      ],
      "execution_count": null,
      "outputs": []
    }
  ]
}